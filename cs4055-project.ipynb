{
 "cells": [
  {
   "cell_type": "markdown",
   "metadata": {},
   "source": [
    "# CS4055 - Group 3\n",
    "\n",
    "Brian Heaphy - 14160846\n",
    "\n",
    "Zach Hyland - 15181014\n",
    "\n",
    "Patrick Cruz - 15160238\n",
    "\n",
    "Robert Laffan - 14169355\n",
    "\n",
    "Dataset: https://www.kaggle.com/lantanacamara/hong-kong-horse-racing#race-result-horse.csv"
   ]
  },
  {
   "cell_type": "code",
   "execution_count": 1,
   "metadata": {},
   "outputs": [],
   "source": [
    "# Tools\n",
    "from random import randint\n",
    "import array\n",
    "from collections import Counter\n",
    "\n",
    "# Linear algebra\n",
    "import numpy as np \n",
    "\n",
    "# Data processing\n",
    "import pandas as pd \n",
    "\n",
    "# Data visualization\n",
    "import seaborn as sns\n",
    "%matplotlib inline\n",
    "from matplotlib import pyplot as plt\n",
    "from matplotlib import style\n",
    "\n",
    "# Algorithms\n",
    "from sklearn import metrics\n",
    "from sklearn.metrics import roc_curve, roc_auc_score\n",
    "from sklearn import linear_model\n",
    "from sklearn.model_selection import cross_val_score\n",
    "from sklearn.model_selection import train_test_split\n",
    "from sklearn.linear_model import LogisticRegression\n",
    "from sklearn.ensemble import RandomForestClassifier\n",
    "from sklearn.linear_model import Perceptron\n",
    "from sklearn.tree import DecisionTreeClassifier\n",
    "from sklearn.svm import SVC, LinearSVC"
   ]
  },
  {
   "cell_type": "code",
   "execution_count": 2,
   "metadata": {},
   "outputs": [],
   "source": [
    "# Read in dataset\n",
    "df = pd.read_csv(\"race-result-horse.csv\")\n",
    "df_example = df.head(10)"
   ]
  },
  {
   "cell_type": "markdown",
   "metadata": {},
   "source": [
    "## Dataset Analysis\n",
    "\n",
    "The dataset we've chosen to use for our project is a set of all Hong Kong horse races from 2013-2017.\n",
    "\n",
    "Our ultimate goal will be to create a predicitive model using this dataset that can accurately predict who the winner of each race was.\n",
    "\n",
    "Lets take a look at our dataset:\n",
    "\n",
    "Below, we use df.info() to display how many records and features our dataset has, as well as the types of each feature.\n",
    "\n",
    "+ We have 24151 records and 17 features.\n",
    "\n",
    "Lets look at these features in more detail:\n",
    "\n",
    "- finishing_position -> Where the horse finished after the race. This is what we will try to predict. We will drop it from the training dataset.\n",
    "- horse_number -> The number given to the horse for the race. Not useful for our predicitive model.\n",
    "- horse_name -> The name of the horse. This could be helpful. Perhaps a certain horse wins often.\n",
    "- horse_id -> Basically the same as the horses name but in numerical format. We can chose one to work with.\n",
    "- jockey - Who the rider of the horse was. Perhaps some jockeys get better horses and win more often?\n",
    "- trainer - The horses trainer. Perhaps some trainers have better horses and have more winners.\n",
    "- actual_weight - This is the total weight handicap given to a horse.\n",
    "- draw -> The starting position of the horse. This may be useful. Perhaps certain starting positions are favourable.\n",
    "- length_behind_winner -> The distance the horse finished behind 1st place. We will ignore this as our model will try to predict who the winner was without definitive information.\n",
    "- running_position_1 -> The position of the horse at the first quarter of the race. This could be useful for our models.\n",
    "- running_position_2 -> The position of the horse at halfway point of the race. This could be useful for our models.\n",
    "- running_position_3 -> The position of the horse after the third quarter of the race. We may or may not include this.\n",
    "- running_position_4 -> The position of the horse at the end of the race. We will ignore this.\n",
    "- finish_time -> Time it took the horse to finish. We will likely remove this is at won't be much use with different race lengths and unknown conditions muddying its usefulness.\n",
    "- win_odds -> The odds given to the horse to win the race. We may included this in our model or we can use this for comparisson with our own findings.\n",
    "- race_id -> ID number given to the race. Not important for us."
   ]
  },
  {
   "cell_type": "code",
   "execution_count": 3,
   "metadata": {},
   "outputs": [
    {
     "name": "stdout",
     "output_type": "stream",
     "text": [
      "<class 'pandas.core.frame.DataFrame'>\n",
      "RangeIndex: 30189 entries, 0 to 30188\n",
      "Data columns (total 16 columns):\n",
      "finishing_position      30187 non-null float64\n",
      "horse_number            29851 non-null float64\n",
      "horse_name              30189 non-null object\n",
      "horse_id                30189 non-null object\n",
      "jockey                  30160 non-null object\n",
      "trainer                 30189 non-null object\n",
      "actual_weight           30189 non-null object\n",
      "draw                    29598 non-null float64\n",
      "length_behind_winner    29598 non-null object\n",
      "running_position_1      29574 non-null float64\n",
      "running_position_2      29560 non-null float64\n",
      "running_position_3      29542 non-null float64\n",
      "running_position_4      16618 non-null float64\n",
      "finish_time             29520 non-null object\n",
      "win_odds                29598 non-null float64\n",
      "race_id                 30189 non-null object\n",
      "dtypes: float64(8), object(8)\n",
      "memory usage: 3.7+ MB\n"
     ]
    }
   ],
   "source": [
    "# Here we can see the current data types of each field.\n",
    "df.info()"
   ]
  },
  {
   "cell_type": "code",
   "execution_count": 4,
   "metadata": {},
   "outputs": [
    {
     "data": {
      "text/html": [
       "<div>\n",
       "<style scoped>\n",
       "    .dataframe tbody tr th:only-of-type {\n",
       "        vertical-align: middle;\n",
       "    }\n",
       "\n",
       "    .dataframe tbody tr th {\n",
       "        vertical-align: top;\n",
       "    }\n",
       "\n",
       "    .dataframe thead th {\n",
       "        text-align: right;\n",
       "    }\n",
       "</style>\n",
       "<table border=\"1\" class=\"dataframe\">\n",
       "  <thead>\n",
       "    <tr style=\"text-align: right;\">\n",
       "      <th></th>\n",
       "      <th>finishing_position</th>\n",
       "      <th>horse_number</th>\n",
       "      <th>draw</th>\n",
       "      <th>running_position_1</th>\n",
       "      <th>running_position_2</th>\n",
       "      <th>running_position_3</th>\n",
       "      <th>running_position_4</th>\n",
       "      <th>win_odds</th>\n",
       "    </tr>\n",
       "  </thead>\n",
       "  <tbody>\n",
       "    <tr>\n",
       "      <th>count</th>\n",
       "      <td>30187.000000</td>\n",
       "      <td>29851.000000</td>\n",
       "      <td>29598.000000</td>\n",
       "      <td>29574.000000</td>\n",
       "      <td>29560.000000</td>\n",
       "      <td>29542.000000</td>\n",
       "      <td>16618.000000</td>\n",
       "      <td>29598.000000</td>\n",
       "    </tr>\n",
       "    <tr>\n",
       "      <th>mean</th>\n",
       "      <td>6.979859</td>\n",
       "      <td>6.885397</td>\n",
       "      <td>6.862051</td>\n",
       "      <td>6.833942</td>\n",
       "      <td>6.831326</td>\n",
       "      <td>6.826992</td>\n",
       "      <td>6.942472</td>\n",
       "      <td>30.255274</td>\n",
       "    </tr>\n",
       "    <tr>\n",
       "      <th>std</th>\n",
       "      <td>3.830520</td>\n",
       "      <td>3.751176</td>\n",
       "      <td>3.742622</td>\n",
       "      <td>3.727267</td>\n",
       "      <td>3.725933</td>\n",
       "      <td>3.724886</td>\n",
       "      <td>3.798080</td>\n",
       "      <td>31.623839</td>\n",
       "    </tr>\n",
       "    <tr>\n",
       "      <th>min</th>\n",
       "      <td>1.000000</td>\n",
       "      <td>1.000000</td>\n",
       "      <td>1.000000</td>\n",
       "      <td>1.000000</td>\n",
       "      <td>1.000000</td>\n",
       "      <td>1.000000</td>\n",
       "      <td>1.000000</td>\n",
       "      <td>1.000000</td>\n",
       "    </tr>\n",
       "    <tr>\n",
       "      <th>25%</th>\n",
       "      <td>4.000000</td>\n",
       "      <td>4.000000</td>\n",
       "      <td>4.000000</td>\n",
       "      <td>4.000000</td>\n",
       "      <td>4.000000</td>\n",
       "      <td>4.000000</td>\n",
       "      <td>4.000000</td>\n",
       "      <td>7.700000</td>\n",
       "    </tr>\n",
       "    <tr>\n",
       "      <th>50%</th>\n",
       "      <td>7.000000</td>\n",
       "      <td>7.000000</td>\n",
       "      <td>7.000000</td>\n",
       "      <td>7.000000</td>\n",
       "      <td>7.000000</td>\n",
       "      <td>7.000000</td>\n",
       "      <td>7.000000</td>\n",
       "      <td>16.000000</td>\n",
       "    </tr>\n",
       "    <tr>\n",
       "      <th>75%</th>\n",
       "      <td>10.000000</td>\n",
       "      <td>10.000000</td>\n",
       "      <td>10.000000</td>\n",
       "      <td>10.000000</td>\n",
       "      <td>10.000000</td>\n",
       "      <td>10.000000</td>\n",
       "      <td>10.000000</td>\n",
       "      <td>41.000000</td>\n",
       "    </tr>\n",
       "    <tr>\n",
       "      <th>max</th>\n",
       "      <td>14.000000</td>\n",
       "      <td>14.000000</td>\n",
       "      <td>15.000000</td>\n",
       "      <td>14.000000</td>\n",
       "      <td>14.000000</td>\n",
       "      <td>14.000000</td>\n",
       "      <td>14.000000</td>\n",
       "      <td>99.000000</td>\n",
       "    </tr>\n",
       "  </tbody>\n",
       "</table>\n",
       "</div>"
      ],
      "text/plain": [
       "       finishing_position  horse_number          draw  running_position_1  \\\n",
       "count        30187.000000  29851.000000  29598.000000        29574.000000   \n",
       "mean             6.979859      6.885397      6.862051            6.833942   \n",
       "std              3.830520      3.751176      3.742622            3.727267   \n",
       "min              1.000000      1.000000      1.000000            1.000000   \n",
       "25%              4.000000      4.000000      4.000000            4.000000   \n",
       "50%              7.000000      7.000000      7.000000            7.000000   \n",
       "75%             10.000000     10.000000     10.000000           10.000000   \n",
       "max             14.000000     14.000000     15.000000           14.000000   \n",
       "\n",
       "       running_position_2  running_position_3  running_position_4  \\\n",
       "count        29560.000000        29542.000000        16618.000000   \n",
       "mean             6.831326            6.826992            6.942472   \n",
       "std              3.725933            3.724886            3.798080   \n",
       "min              1.000000            1.000000            1.000000   \n",
       "25%              4.000000            4.000000            4.000000   \n",
       "50%              7.000000            7.000000            7.000000   \n",
       "75%             10.000000           10.000000           10.000000   \n",
       "max             14.000000           14.000000           14.000000   \n",
       "\n",
       "           win_odds  \n",
       "count  29598.000000  \n",
       "mean      30.255274  \n",
       "std       31.623839  \n",
       "min        1.000000  \n",
       "25%        7.700000  \n",
       "50%       16.000000  \n",
       "75%       41.000000  \n",
       "max       99.000000  "
      ]
     },
     "execution_count": 4,
     "metadata": {},
     "output_type": "execute_result"
    }
   ],
   "source": [
    "df.describe()"
   ]
  },
  {
   "cell_type": "markdown",
   "metadata": {},
   "source": [
    "Above, we can see a few things.\n",
    "\n",
    "- The most horses in any race was 14.\n",
    "- The lowest odds given to any horse was 1/1\n",
    "- The highest odds given to any horse was 99/1\n",
    "\n",
    "It's also clear that a lot of features are missing here. In order to use a lot of this data for our machine learning algorithms, we will have to convert the features into numeric ones.\n"
   ]
  },
  {
   "cell_type": "code",
   "execution_count": 5,
   "metadata": {
    "scrolled": true
   },
   "outputs": [
    {
     "data": {
      "text/html": [
       "<div>\n",
       "<style scoped>\n",
       "    .dataframe tbody tr th:only-of-type {\n",
       "        vertical-align: middle;\n",
       "    }\n",
       "\n",
       "    .dataframe tbody tr th {\n",
       "        vertical-align: top;\n",
       "    }\n",
       "\n",
       "    .dataframe thead th {\n",
       "        text-align: right;\n",
       "    }\n",
       "</style>\n",
       "<table border=\"1\" class=\"dataframe\">\n",
       "  <thead>\n",
       "    <tr style=\"text-align: right;\">\n",
       "      <th></th>\n",
       "      <th>finishing_position</th>\n",
       "      <th>horse_number</th>\n",
       "      <th>horse_name</th>\n",
       "      <th>horse_id</th>\n",
       "      <th>jockey</th>\n",
       "      <th>trainer</th>\n",
       "      <th>actual_weight</th>\n",
       "      <th>draw</th>\n",
       "      <th>length_behind_winner</th>\n",
       "      <th>running_position_1</th>\n",
       "      <th>running_position_2</th>\n",
       "      <th>running_position_3</th>\n",
       "      <th>running_position_4</th>\n",
       "      <th>finish_time</th>\n",
       "      <th>win_odds</th>\n",
       "      <th>race_id</th>\n",
       "    </tr>\n",
       "  </thead>\n",
       "  <tbody>\n",
       "    <tr>\n",
       "      <th>0</th>\n",
       "      <td>1.0</td>\n",
       "      <td>1.0</td>\n",
       "      <td>DOUBLE DRAGON</td>\n",
       "      <td>K019</td>\n",
       "      <td>B Prebble</td>\n",
       "      <td>D Cruz</td>\n",
       "      <td>133</td>\n",
       "      <td>1.0</td>\n",
       "      <td>-</td>\n",
       "      <td>1.0</td>\n",
       "      <td>2.0</td>\n",
       "      <td>2.0</td>\n",
       "      <td>1.0</td>\n",
       "      <td>1.22.33</td>\n",
       "      <td>3.8</td>\n",
       "      <td>2014-001</td>\n",
       "    </tr>\n",
       "    <tr>\n",
       "      <th>1</th>\n",
       "      <td>2.0</td>\n",
       "      <td>2.0</td>\n",
       "      <td>PLAIN BLUE BANNER</td>\n",
       "      <td>S070</td>\n",
       "      <td>D Whyte</td>\n",
       "      <td>D E Ferraris</td>\n",
       "      <td>133</td>\n",
       "      <td>13.0</td>\n",
       "      <td>2</td>\n",
       "      <td>8.0</td>\n",
       "      <td>9.0</td>\n",
       "      <td>9.0</td>\n",
       "      <td>2.0</td>\n",
       "      <td>1.22.65</td>\n",
       "      <td>8.0</td>\n",
       "      <td>2014-001</td>\n",
       "    </tr>\n",
       "    <tr>\n",
       "      <th>2</th>\n",
       "      <td>3.0</td>\n",
       "      <td>10.0</td>\n",
       "      <td>GOLDWEAVER</td>\n",
       "      <td>P072</td>\n",
       "      <td>Y T Cheng</td>\n",
       "      <td>Y S Tsui</td>\n",
       "      <td>121</td>\n",
       "      <td>3.0</td>\n",
       "      <td>2</td>\n",
       "      <td>2.0</td>\n",
       "      <td>1.0</td>\n",
       "      <td>1.0</td>\n",
       "      <td>3.0</td>\n",
       "      <td>1.22.66</td>\n",
       "      <td>5.7</td>\n",
       "      <td>2014-001</td>\n",
       "    </tr>\n",
       "    <tr>\n",
       "      <th>3</th>\n",
       "      <td>4.0</td>\n",
       "      <td>3.0</td>\n",
       "      <td>SUPREME PROFIT</td>\n",
       "      <td>P230</td>\n",
       "      <td>J Moreira</td>\n",
       "      <td>C S Shum</td>\n",
       "      <td>132</td>\n",
       "      <td>2.0</td>\n",
       "      <td>2</td>\n",
       "      <td>6.0</td>\n",
       "      <td>4.0</td>\n",
       "      <td>5.0</td>\n",
       "      <td>4.0</td>\n",
       "      <td>1.22.66</td>\n",
       "      <td>6.1</td>\n",
       "      <td>2014-001</td>\n",
       "    </tr>\n",
       "    <tr>\n",
       "      <th>4</th>\n",
       "      <td>5.0</td>\n",
       "      <td>7.0</td>\n",
       "      <td>THE ONLY KID</td>\n",
       "      <td>H173</td>\n",
       "      <td>Z Purton</td>\n",
       "      <td>K W Lui</td>\n",
       "      <td>125</td>\n",
       "      <td>9.0</td>\n",
       "      <td>4-1/4</td>\n",
       "      <td>9.0</td>\n",
       "      <td>10.0</td>\n",
       "      <td>10.0</td>\n",
       "      <td>5.0</td>\n",
       "      <td>1.23.02</td>\n",
       "      <td>6.1</td>\n",
       "      <td>2014-001</td>\n",
       "    </tr>\n",
       "    <tr>\n",
       "      <th>5</th>\n",
       "      <td>6.0</td>\n",
       "      <td>9.0</td>\n",
       "      <td>WINNING ADVANTAGE</td>\n",
       "      <td>N359</td>\n",
       "      <td>A Suborics</td>\n",
       "      <td>A T Millard</td>\n",
       "      <td>123</td>\n",
       "      <td>11.0</td>\n",
       "      <td>5-1/2</td>\n",
       "      <td>12.0</td>\n",
       "      <td>13.0</td>\n",
       "      <td>13.0</td>\n",
       "      <td>6.0</td>\n",
       "      <td>1.23.20</td>\n",
       "      <td>24.0</td>\n",
       "      <td>2014-001</td>\n",
       "    </tr>\n",
       "    <tr>\n",
       "      <th>6</th>\n",
       "      <td>7.0</td>\n",
       "      <td>13.0</td>\n",
       "      <td>CARE FREE ELEGANCE</td>\n",
       "      <td>P340</td>\n",
       "      <td>C Y Ho</td>\n",
       "      <td>K L Man</td>\n",
       "      <td>115</td>\n",
       "      <td>12.0</td>\n",
       "      <td>5-1/2</td>\n",
       "      <td>4.0</td>\n",
       "      <td>3.0</td>\n",
       "      <td>3.0</td>\n",
       "      <td>7.0</td>\n",
       "      <td>1.23.22</td>\n",
       "      <td>99.0</td>\n",
       "      <td>2014-001</td>\n",
       "    </tr>\n",
       "    <tr>\n",
       "      <th>7</th>\n",
       "      <td>8.0</td>\n",
       "      <td>4.0</td>\n",
       "      <td>COOL PAL</td>\n",
       "      <td>S035</td>\n",
       "      <td>H W Lai</td>\n",
       "      <td>L Ho</td>\n",
       "      <td>129</td>\n",
       "      <td>8.0</td>\n",
       "      <td>5-3/4</td>\n",
       "      <td>5.0</td>\n",
       "      <td>6.0</td>\n",
       "      <td>6.0</td>\n",
       "      <td>8.0</td>\n",
       "      <td>1.23.25</td>\n",
       "      <td>21.0</td>\n",
       "      <td>2014-001</td>\n",
       "    </tr>\n",
       "    <tr>\n",
       "      <th>8</th>\n",
       "      <td>9.0</td>\n",
       "      <td>6.0</td>\n",
       "      <td>TAI PO FORTUNE</td>\n",
       "      <td>P081</td>\n",
       "      <td>K Teetan</td>\n",
       "      <td>T P Yung</td>\n",
       "      <td>127</td>\n",
       "      <td>6.0</td>\n",
       "      <td>6-1/4</td>\n",
       "      <td>7.0</td>\n",
       "      <td>7.0</td>\n",
       "      <td>7.0</td>\n",
       "      <td>9.0</td>\n",
       "      <td>1.23.33</td>\n",
       "      <td>10.0</td>\n",
       "      <td>2014-001</td>\n",
       "    </tr>\n",
       "    <tr>\n",
       "      <th>9</th>\n",
       "      <td>10.0</td>\n",
       "      <td>11.0</td>\n",
       "      <td>SUPER HORSE</td>\n",
       "      <td>L308</td>\n",
       "      <td>T H So</td>\n",
       "      <td>C W Chang</td>\n",
       "      <td>119</td>\n",
       "      <td>7.0</td>\n",
       "      <td>6-3/4</td>\n",
       "      <td>11.0</td>\n",
       "      <td>11.0</td>\n",
       "      <td>12.0</td>\n",
       "      <td>10.0</td>\n",
       "      <td>1.23.41</td>\n",
       "      <td>27.0</td>\n",
       "      <td>2014-001</td>\n",
       "    </tr>\n",
       "  </tbody>\n",
       "</table>\n",
       "</div>"
      ],
      "text/plain": [
       "   finishing_position  horse_number          horse_name horse_id      jockey  \\\n",
       "0                 1.0           1.0       DOUBLE DRAGON     K019   B Prebble   \n",
       "1                 2.0           2.0   PLAIN BLUE BANNER     S070     D Whyte   \n",
       "2                 3.0          10.0          GOLDWEAVER     P072   Y T Cheng   \n",
       "3                 4.0           3.0      SUPREME PROFIT     P230   J Moreira   \n",
       "4                 5.0           7.0        THE ONLY KID     H173    Z Purton   \n",
       "5                 6.0           9.0   WINNING ADVANTAGE     N359  A Suborics   \n",
       "6                 7.0          13.0  CARE FREE ELEGANCE     P340      C Y Ho   \n",
       "7                 8.0           4.0            COOL PAL     S035     H W Lai   \n",
       "8                 9.0           6.0      TAI PO FORTUNE     P081    K Teetan   \n",
       "9                10.0          11.0         SUPER HORSE     L308      T H So   \n",
       "\n",
       "        trainer actual_weight  draw length_behind_winner  running_position_1  \\\n",
       "0        D Cruz           133   1.0                    -                 1.0   \n",
       "1  D E Ferraris           133  13.0                    2                 8.0   \n",
       "2      Y S Tsui           121   3.0                    2                 2.0   \n",
       "3      C S Shum           132   2.0                    2                 6.0   \n",
       "4       K W Lui           125   9.0                4-1/4                 9.0   \n",
       "5   A T Millard           123  11.0                5-1/2                12.0   \n",
       "6       K L Man           115  12.0                5-1/2                 4.0   \n",
       "7          L Ho           129   8.0                5-3/4                 5.0   \n",
       "8      T P Yung           127   6.0                6-1/4                 7.0   \n",
       "9     C W Chang           119   7.0                6-3/4                11.0   \n",
       "\n",
       "   running_position_2  running_position_3  running_position_4 finish_time  \\\n",
       "0                 2.0                 2.0                 1.0     1.22.33   \n",
       "1                 9.0                 9.0                 2.0     1.22.65   \n",
       "2                 1.0                 1.0                 3.0     1.22.66   \n",
       "3                 4.0                 5.0                 4.0     1.22.66   \n",
       "4                10.0                10.0                 5.0     1.23.02   \n",
       "5                13.0                13.0                 6.0     1.23.20   \n",
       "6                 3.0                 3.0                 7.0     1.23.22   \n",
       "7                 6.0                 6.0                 8.0     1.23.25   \n",
       "8                 7.0                 7.0                 9.0     1.23.33   \n",
       "9                11.0                12.0                10.0     1.23.41   \n",
       "\n",
       "   win_odds   race_id  \n",
       "0       3.8  2014-001  \n",
       "1       8.0  2014-001  \n",
       "2       5.7  2014-001  \n",
       "3       6.1  2014-001  \n",
       "4       6.1  2014-001  \n",
       "5      24.0  2014-001  \n",
       "6      99.0  2014-001  \n",
       "7      21.0  2014-001  \n",
       "8      10.0  2014-001  \n",
       "9      27.0  2014-001  "
      ]
     },
     "execution_count": 5,
     "metadata": {},
     "output_type": "execute_result"
    }
   ],
   "source": [
    "df.head(10)"
   ]
  },
  {
   "cell_type": "markdown",
   "metadata": {},
   "source": [
    "From the table above we can see once again that a lot of data munging will be required to make some of the data usable. We can see that some features contain NaN values (i.e. not a number) and these will have to be cleaned up before we can start building our models.\n",
    "\n",
    "### Lets see what's missing"
   ]
  },
  {
   "cell_type": "code",
   "execution_count": 6,
   "metadata": {},
   "outputs": [
    {
     "data": {
      "text/html": [
       "<div>\n",
       "<style scoped>\n",
       "    .dataframe tbody tr th:only-of-type {\n",
       "        vertical-align: middle;\n",
       "    }\n",
       "\n",
       "    .dataframe tbody tr th {\n",
       "        vertical-align: top;\n",
       "    }\n",
       "\n",
       "    .dataframe thead th {\n",
       "        text-align: right;\n",
       "    }\n",
       "</style>\n",
       "<table border=\"1\" class=\"dataframe\">\n",
       "  <thead>\n",
       "    <tr style=\"text-align: right;\">\n",
       "      <th></th>\n",
       "      <th>Total</th>\n",
       "      <th>% Missing</th>\n",
       "    </tr>\n",
       "  </thead>\n",
       "  <tbody>\n",
       "    <tr>\n",
       "      <th>finishing_position</th>\n",
       "      <td>2</td>\n",
       "      <td>0.006625</td>\n",
       "    </tr>\n",
       "    <tr>\n",
       "      <th>horse_number</th>\n",
       "      <td>338</td>\n",
       "      <td>1.119613</td>\n",
       "    </tr>\n",
       "    <tr>\n",
       "      <th>horse_name</th>\n",
       "      <td>0</td>\n",
       "      <td>0.000000</td>\n",
       "    </tr>\n",
       "    <tr>\n",
       "      <th>horse_id</th>\n",
       "      <td>0</td>\n",
       "      <td>0.000000</td>\n",
       "    </tr>\n",
       "    <tr>\n",
       "      <th>jockey</th>\n",
       "      <td>29</td>\n",
       "      <td>0.096061</td>\n",
       "    </tr>\n",
       "    <tr>\n",
       "      <th>trainer</th>\n",
       "      <td>0</td>\n",
       "      <td>0.000000</td>\n",
       "    </tr>\n",
       "    <tr>\n",
       "      <th>actual_weight</th>\n",
       "      <td>0</td>\n",
       "      <td>0.000000</td>\n",
       "    </tr>\n",
       "    <tr>\n",
       "      <th>draw</th>\n",
       "      <td>591</td>\n",
       "      <td>1.957667</td>\n",
       "    </tr>\n",
       "    <tr>\n",
       "      <th>length_behind_winner</th>\n",
       "      <td>591</td>\n",
       "      <td>1.957667</td>\n",
       "    </tr>\n",
       "    <tr>\n",
       "      <th>running_position_1</th>\n",
       "      <td>615</td>\n",
       "      <td>2.037166</td>\n",
       "    </tr>\n",
       "    <tr>\n",
       "      <th>running_position_2</th>\n",
       "      <td>629</td>\n",
       "      <td>2.083540</td>\n",
       "    </tr>\n",
       "    <tr>\n",
       "      <th>running_position_3</th>\n",
       "      <td>647</td>\n",
       "      <td>2.143165</td>\n",
       "    </tr>\n",
       "    <tr>\n",
       "      <th>running_position_4</th>\n",
       "      <td>13571</td>\n",
       "      <td>44.953460</td>\n",
       "    </tr>\n",
       "    <tr>\n",
       "      <th>finish_time</th>\n",
       "      <td>669</td>\n",
       "      <td>2.216039</td>\n",
       "    </tr>\n",
       "    <tr>\n",
       "      <th>win_odds</th>\n",
       "      <td>591</td>\n",
       "      <td>1.957667</td>\n",
       "    </tr>\n",
       "    <tr>\n",
       "      <th>race_id</th>\n",
       "      <td>0</td>\n",
       "      <td>0.000000</td>\n",
       "    </tr>\n",
       "  </tbody>\n",
       "</table>\n",
       "</div>"
      ],
      "text/plain": [
       "                      Total  % Missing\n",
       "finishing_position        2   0.006625\n",
       "horse_number            338   1.119613\n",
       "horse_name                0   0.000000\n",
       "horse_id                  0   0.000000\n",
       "jockey                   29   0.096061\n",
       "trainer                   0   0.000000\n",
       "actual_weight             0   0.000000\n",
       "draw                    591   1.957667\n",
       "length_behind_winner    591   1.957667\n",
       "running_position_1      615   2.037166\n",
       "running_position_2      629   2.083540\n",
       "running_position_3      647   2.143165\n",
       "running_position_4    13571  44.953460\n",
       "finish_time             669   2.216039\n",
       "win_odds                591   1.957667\n",
       "race_id                   0   0.000000"
      ]
     },
     "execution_count": 6,
     "metadata": {},
     "output_type": "execute_result"
    }
   ],
   "source": [
    "total = df.isnull().sum()\n",
    "percent = df.isnull().sum()/df.isnull().count()*100\n",
    "missing_data = pd.concat([total, percent], axis=1, keys=['Total', '% Missing'])\n",
    "missing_data.head(17)"
   ]
  },
  {
   "cell_type": "markdown",
   "metadata": {},
   "source": [
    "As you can see above, there are quite a few features with missing values. Luckily, many of them are easily fixed.\n",
    "\n",
    "#### running_position_4\n",
    "Nearly half of all records are missing data for this feature and as a result, it is best we remove it from our dataset.\n",
    "\n",
    "#### horse_number\n",
    "This data provides no benefit to us in creating a predicitive model so we can remove it from the dataset.\n",
    "\n",
    "#### finishing_position\n",
    "Since there are two rows missing the finishing position, we will remove them from the dataset.\n",
    "\n",
    "#### jockey\n",
    "There are 24 records where the jockey's name is missing. Since there are so few rows affected by this, we will simply remove them from the dataset.\n",
    "\n",
    "#### length_behind_winner\n",
    "Since we are trying to predict if a horse won it's race using other information, we will drop this column as there is a direct correlation between it and, winning or losing.\n",
    "\n",
    "#### running_position_1, 2 and 3\n",
    "This one requires a little more consideration than some of the others. We can see that there is roughly 2.03% of all records missing rp1 (running_position_1), roughly 2.08% missing rp2 and about 2.14% off all records missing rp3.\n",
    "\n",
    "The likely scenario for this is that the horse did not make it to these stages, rather than the data being forgotten.\n",
    "\n",
    "The missing % for rp1 and rp2 are so similar because they are most likely the result of horses refusing to run at the start of the race. The missing % for rp2 does not increase much in comparisson to rp1, because if a horse did start it is very unlikely to drop out before the halfway mark.\n",
    "\n",
    "Finally, rp3 increases slightly more noticably as it would be more likely for a horse to drop out near the end of the race if it was in a poor position and had no chance of placing.\n",
    "\n",
    "As a result of these considerations we will replace all of these missing values with '14', the lowest finishing position, as dropping out is essentially finishing in last place.\n",
    "\n",
    "#### finish_time\n",
    "We will drop finishing time from our dataset as it won't be much use when trying to create a predictive model. There may be many different race lengths which we can't account for, as well as things such as weather conditions that will make the finishing times worthless to us.\n",
    "\n",
    "#### win_odds\n",
    "In the case of missing odds values, we'll replace the null values with the mean win_odds.\n",
    "\n",
    "\n",
    "### How it looks afterwards:"
   ]
  },
  {
   "cell_type": "code",
   "execution_count": 7,
   "metadata": {
    "scrolled": true
   },
   "outputs": [
    {
     "data": {
      "text/html": [
       "<div>\n",
       "<style scoped>\n",
       "    .dataframe tbody tr th:only-of-type {\n",
       "        vertical-align: middle;\n",
       "    }\n",
       "\n",
       "    .dataframe tbody tr th {\n",
       "        vertical-align: top;\n",
       "    }\n",
       "\n",
       "    .dataframe thead th {\n",
       "        text-align: right;\n",
       "    }\n",
       "</style>\n",
       "<table border=\"1\" class=\"dataframe\">\n",
       "  <thead>\n",
       "    <tr style=\"text-align: right;\">\n",
       "      <th></th>\n",
       "      <th>Total</th>\n",
       "      <th>% Missing</th>\n",
       "    </tr>\n",
       "  </thead>\n",
       "  <tbody>\n",
       "    <tr>\n",
       "      <th>finishing_position</th>\n",
       "      <td>0</td>\n",
       "      <td>0.0</td>\n",
       "    </tr>\n",
       "    <tr>\n",
       "      <th>horse_id</th>\n",
       "      <td>0</td>\n",
       "      <td>0.0</td>\n",
       "    </tr>\n",
       "    <tr>\n",
       "      <th>jockey</th>\n",
       "      <td>0</td>\n",
       "      <td>0.0</td>\n",
       "    </tr>\n",
       "    <tr>\n",
       "      <th>trainer</th>\n",
       "      <td>0</td>\n",
       "      <td>0.0</td>\n",
       "    </tr>\n",
       "    <tr>\n",
       "      <th>actual_weight</th>\n",
       "      <td>0</td>\n",
       "      <td>0.0</td>\n",
       "    </tr>\n",
       "    <tr>\n",
       "      <th>draw</th>\n",
       "      <td>0</td>\n",
       "      <td>0.0</td>\n",
       "    </tr>\n",
       "    <tr>\n",
       "      <th>running_position_1</th>\n",
       "      <td>0</td>\n",
       "      <td>0.0</td>\n",
       "    </tr>\n",
       "    <tr>\n",
       "      <th>running_position_2</th>\n",
       "      <td>0</td>\n",
       "      <td>0.0</td>\n",
       "    </tr>\n",
       "    <tr>\n",
       "      <th>running_position_3</th>\n",
       "      <td>0</td>\n",
       "      <td>0.0</td>\n",
       "    </tr>\n",
       "    <tr>\n",
       "      <th>win_odds</th>\n",
       "      <td>0</td>\n",
       "      <td>0.0</td>\n",
       "    </tr>\n",
       "  </tbody>\n",
       "</table>\n",
       "</div>"
      ],
      "text/plain": [
       "                    Total  % Missing\n",
       "finishing_position      0        0.0\n",
       "horse_id                0        0.0\n",
       "jockey                  0        0.0\n",
       "trainer                 0        0.0\n",
       "actual_weight           0        0.0\n",
       "draw                    0        0.0\n",
       "running_position_1      0        0.0\n",
       "running_position_2      0        0.0\n",
       "running_position_3      0        0.0\n",
       "win_odds                0        0.0"
      ]
     },
     "execution_count": 7,
     "metadata": {},
     "output_type": "execute_result"
    }
   ],
   "source": [
    "# Drop running position 4\n",
    "df = df.drop(['running_position_4'], axis=1)\n",
    "\n",
    "# Drop horse number\n",
    "df = df.drop(['horse_number'], axis=1)\n",
    "\n",
    "# Drop rows missing finishing position\n",
    "df = df.dropna(axis=0, subset=['finishing_position'])\n",
    "# Make finishing_position an int (was previosuly a float)\n",
    "df['finishing_position'] = df['finishing_position'].astype(int)\n",
    "\n",
    "# Drop rows missing jockey\n",
    "df = df.dropna(axis=0, subset=['jockey'])\n",
    "\n",
    "# Fill draw null vals with a random value from the draw col\n",
    "df['draw'] = df['draw'].fillna(13)\n",
    "df['draw'] = df['draw'].astype(int)\n",
    "\n",
    "# Drop distance_behind_winner\n",
    "df = df.drop(['length_behind_winner'], axis=1)\n",
    "\n",
    "# Fill null running_position_1, 2 and 3 values with 14\n",
    "df['running_position_1'] = df['running_position_1'].fillna(14)\n",
    "df['running_position_1'] = df['running_position_1'].astype(int)\n",
    "df['running_position_2'] = df['running_position_2'].fillna(14)\n",
    "df['running_position_2'] = df['running_position_2'].astype(int)\n",
    "df['running_position_3'] = df['running_position_3'].fillna(14)\n",
    "df['running_position_3'] = df['running_position_3'].astype(int)\n",
    "\n",
    "# Drop finishing time\n",
    "df = df.drop(['finish_time'], axis=1)\n",
    "\n",
    "# Fill null win_odds with mean\n",
    "df['win_odds'] = df['win_odds'].fillna(df['win_odds'].mean())\n",
    "\n",
    "# We can drop race ID also as it wont be of any use to us\n",
    "df = df.drop(['race_id'], axis=1)\n",
    "\n",
    "# We can drop horse_name as horse_id will be more suitable\n",
    "df = df.drop(['horse_name'], axis=1)\n",
    "\n",
    "total = df.isnull().sum()\n",
    "percent = df.isnull().sum()/df.isnull().count()*100\n",
    "missing_data = pd.concat([total, percent], axis=1, keys=['Total', '% Missing'])\n",
    "missing_data.head(17)"
   ]
  },
  {
   "cell_type": "markdown",
   "metadata": {},
   "source": [
    "## Reduce the size of the dataset\n",
    "\n",
    "Due to the large size of the dataset with 30000 rows, we decided to reduce it's size in order to make it easier to manage and process for this project.\n",
    "\n",
    "We will settle on 10000 rows."
   ]
  },
  {
   "cell_type": "code",
   "execution_count": 8,
   "metadata": {},
   "outputs": [],
   "source": [
    "df = df.head(10000)"
   ]
  },
  {
   "cell_type": "markdown",
   "metadata": {},
   "source": [
    "## Features & Feature Engineering\n",
    "\n",
    "### 1. Horse ID"
   ]
  },
  {
   "cell_type": "code",
   "execution_count": 9,
   "metadata": {},
   "outputs": [
    {
     "data": {
      "text/plain": [
       "1316"
      ]
     },
     "execution_count": 9,
     "metadata": {},
     "output_type": "execute_result"
    }
   ],
   "source": [
    "horses = df['horse_id'].unique()\n",
    "horses.size"
   ]
  },
  {
   "cell_type": "markdown",
   "metadata": {},
   "source": [
    "\n",
    "This tells us that in our dataset we have 1316 unique horses.\n"
   ]
  },
  {
   "cell_type": "code",
   "execution_count": 10,
   "metadata": {},
   "outputs": [
    {
     "data": {
      "image/png": "[encoded data removed]",
      "text/plain": [
       "<Figure size 432x288 with 1 Axes>"
      ]
     },
     "metadata": {
      "needs_background": "light"
     },
     "output_type": "display_data"
    }
   ],
   "source": [
    "winners = df.loc[df['finishing_position'] == 1]\n",
    "wins = []\n",
    "\n",
    "for h in horses:\n",
    "    w = 0\n",
    "    for row in winners['horse_id']:\n",
    "        if(h == row):\n",
    "            w+=1\n",
    "\n",
    "    wins.append(w)\n",
    "\n",
    "\n",
    "\n",
    "plt.hist(wins, bins=[1,2,3,4,5], align='mid')\n",
    "plt.title(\"Frequency of horses with one or more wins\")\n",
    "plt.gca().set_xticks(wins)\n",
    "plt.show()"
   ]
  },
  {
   "cell_type": "markdown",
   "metadata": {},
   "source": [
    "This shows us that some horses do have a history of more wins than others. \n",
    "\n",
    "Roughly 300 horses have won 1 race in our dataset.\n",
    "Over 120 horses have won twice.\n",
    "Almost 50 horses have won 3 times.\n",
    "Just under 25 horses in the dataset have won 4 times.\n",
    "\n",
    "Considering we have 1316 unique horses in our training set and roughly 300 horses with 1 win and 200 horses with at least 2 wins, we should be able to confidently say that a horse with 1 win or more is likely to win again. This should be a consideration for our model.\n",
    "\n",
    "### Creating 'horse_wins'\n",
    "\n",
    "In order to use the horse's wins as part of our calculations later on, we will create a new feature in the place of 'horse_id' and call it 'horse_wins'. The 'horse_wins' column will be much more suitable for designing a machine learning algorithm as the number of wins a horse has is more imidediately useful than it's id number.\n",
    "\n",
    "Lets create 'horse_wins'."
   ]
  },
  {
   "cell_type": "code",
   "execution_count": 11,
   "metadata": {},
   "outputs": [],
   "source": [
    "# This makes a dict with the horse id corresponding to their wins\n",
    "horse_win_dict = dict(zip(horses, wins))\n",
    "\n",
    "df['horse_wins'] = df['horse_id']\n",
    "df['horse_wins'] = df['horse_wins'].map(horse_win_dict)\n",
    "df['horse_wins'] = df['horse_wins'].fillna(0)\n",
    "df['horse_wins'] = df['horse_wins'].astype(int)"
   ]
  },
  {
   "cell_type": "markdown",
   "metadata": {},
   "source": [
    "With our new feature 'horse_wins' successfully created, we can drop 'horse_id'."
   ]
  },
  {
   "cell_type": "code",
   "execution_count": 12,
   "metadata": {},
   "outputs": [],
   "source": [
    "df = df.drop(['horse_id'], axis=1)"
   ]
  },
  {
   "cell_type": "markdown",
   "metadata": {},
   "source": [
    "### 2. Jockey"
   ]
  },
  {
   "cell_type": "code",
   "execution_count": 13,
   "metadata": {},
   "outputs": [
    {
     "data": {
      "text/plain": [
       "61"
      ]
     },
     "execution_count": 13,
     "metadata": {},
     "output_type": "execute_result"
    }
   ],
   "source": [
    "jockeys = df['jockey'].unique()\n",
    "jockeys.size"
   ]
  },
  {
   "cell_type": "markdown",
   "metadata": {},
   "source": [
    "As we can see above, our dataset contains 61 unique jockeys.\n",
    "\n",
    "Lets take a look at their wins."
   ]
  },
  {
   "cell_type": "code",
   "execution_count": 14,
   "metadata": {},
   "outputs": [
    {
     "data": {
      "text/html": [
       "<div>\n",
       "<style scoped>\n",
       "    .dataframe tbody tr th:only-of-type {\n",
       "        vertical-align: middle;\n",
       "    }\n",
       "\n",
       "    .dataframe tbody tr th {\n",
       "        vertical-align: top;\n",
       "    }\n",
       "\n",
       "    .dataframe thead th {\n",
       "        text-align: right;\n",
       "    }\n",
       "</style>\n",
       "<table border=\"1\" class=\"dataframe\">\n",
       "  <thead>\n",
       "    <tr style=\"text-align: right;\">\n",
       "      <th></th>\n",
       "      <th>finishing_position</th>\n",
       "    </tr>\n",
       "    <tr>\n",
       "      <th>jockey</th>\n",
       "      <th></th>\n",
       "    </tr>\n",
       "  </thead>\n",
       "  <tbody>\n",
       "    <tr>\n",
       "      <th>J Moreira</th>\n",
       "      <td>147</td>\n",
       "    </tr>\n",
       "    <tr>\n",
       "      <th>Z Purton</th>\n",
       "      <td>95</td>\n",
       "    </tr>\n",
       "    <tr>\n",
       "      <th>D Whyte</th>\n",
       "      <td>75</td>\n",
       "    </tr>\n",
       "    <tr>\n",
       "      <th>B Prebble</th>\n",
       "      <td>48</td>\n",
       "    </tr>\n",
       "    <tr>\n",
       "      <th>N Callan</th>\n",
       "      <td>47</td>\n",
       "    </tr>\n",
       "    <tr>\n",
       "      <th>G Mosse</th>\n",
       "      <td>37</td>\n",
       "    </tr>\n",
       "    <tr>\n",
       "      <th>C Y Ho</th>\n",
       "      <td>33</td>\n",
       "    </tr>\n",
       "    <tr>\n",
       "      <th>N Rawiller</th>\n",
       "      <td>29</td>\n",
       "    </tr>\n",
       "    <tr>\n",
       "      <th>K Teetan</th>\n",
       "      <td>29</td>\n",
       "    </tr>\n",
       "    <tr>\n",
       "      <th>M L Yeung</th>\n",
       "      <td>28</td>\n",
       "    </tr>\n",
       "    <tr>\n",
       "      <th>K C Leung</th>\n",
       "      <td>26</td>\n",
       "    </tr>\n",
       "    <tr>\n",
       "      <th>O Doleuze</th>\n",
       "      <td>24</td>\n",
       "    </tr>\n",
       "    <tr>\n",
       "      <th>M Chadwick</th>\n",
       "      <td>17</td>\n",
       "    </tr>\n",
       "    <tr>\n",
       "      <th>T H So</th>\n",
       "      <td>16</td>\n",
       "    </tr>\n",
       "    <tr>\n",
       "      <th>U Rispoli</th>\n",
       "      <td>16</td>\n",
       "    </tr>\n",
       "    <tr>\n",
       "      <th>H W Lai</th>\n",
       "      <td>16</td>\n",
       "    </tr>\n",
       "    <tr>\n",
       "      <th>A Suborics</th>\n",
       "      <td>15</td>\n",
       "    </tr>\n",
       "    <tr>\n",
       "      <th>Y T Cheng</th>\n",
       "      <td>13</td>\n",
       "    </tr>\n",
       "    <tr>\n",
       "      <th>K C Ng</th>\n",
       "      <td>12</td>\n",
       "    </tr>\n",
       "    <tr>\n",
       "      <th>M Demuro</th>\n",
       "      <td>9</td>\n",
       "    </tr>\n",
       "    <tr>\n",
       "      <th>H N Wong</th>\n",
       "      <td>9</td>\n",
       "    </tr>\n",
       "    <tr>\n",
       "      <th>M Guyon</th>\n",
       "      <td>8</td>\n",
       "    </tr>\n",
       "    <tr>\n",
       "      <th>C Y Lui</th>\n",
       "      <td>7</td>\n",
       "    </tr>\n",
       "    <tr>\n",
       "      <th>D Lane</th>\n",
       "      <td>5</td>\n",
       "    </tr>\n",
       "    <tr>\n",
       "      <th>W M Lai</th>\n",
       "      <td>4</td>\n",
       "    </tr>\n",
       "    <tr>\n",
       "      <th>A Atzeni</th>\n",
       "      <td>3</td>\n",
       "    </tr>\n",
       "    <tr>\n",
       "      <th>C K Tong</th>\n",
       "      <td>3</td>\n",
       "    </tr>\n",
       "    <tr>\n",
       "      <th>C Reith</th>\n",
       "      <td>2</td>\n",
       "    </tr>\n",
       "    <tr>\n",
       "      <th>C Williams</th>\n",
       "      <td>2</td>\n",
       "    </tr>\n",
       "    <tr>\n",
       "      <th>Y Fukunaga</th>\n",
       "      <td>2</td>\n",
       "    </tr>\n",
       "    <tr>\n",
       "      <th>T Berry</th>\n",
       "      <td>2</td>\n",
       "    </tr>\n",
       "    <tr>\n",
       "      <th>J McDonald</th>\n",
       "      <td>1</td>\n",
       "    </tr>\n",
       "    <tr>\n",
       "      <th>C Soumillon</th>\n",
       "      <td>1</td>\n",
       "    </tr>\n",
       "    <tr>\n",
       "      <th>S Pasquier</th>\n",
       "      <td>1</td>\n",
       "    </tr>\n",
       "    <tr>\n",
       "      <th>H Bowman</th>\n",
       "      <td>1</td>\n",
       "    </tr>\n",
       "    <tr>\n",
       "      <th>R Moore</th>\n",
       "      <td>1</td>\n",
       "    </tr>\n",
       "  </tbody>\n",
       "</table>\n",
       "</div>"
      ],
      "text/plain": [
       "             finishing_position\n",
       "jockey                         \n",
       "J Moreira                   147\n",
       "Z Purton                     95\n",
       "D Whyte                      75\n",
       "B Prebble                    48\n",
       "N Callan                     47\n",
       "G Mosse                      37\n",
       "C Y Ho                       33\n",
       "N Rawiller                   29\n",
       "K Teetan                     29\n",
       "M L Yeung                    28\n",
       "K C Leung                    26\n",
       "O Doleuze                    24\n",
       "M Chadwick                   17\n",
       "T H So                       16\n",
       "U Rispoli                    16\n",
       "H W Lai                      16\n",
       "A Suborics                   15\n",
       "Y T Cheng                    13\n",
       "K C Ng                       12\n",
       "M Demuro                      9\n",
       "H N Wong                      9\n",
       "M Guyon                       8\n",
       "C Y Lui                       7\n",
       "D Lane                        5\n",
       "W M Lai                       4\n",
       "A Atzeni                      3\n",
       "C K Tong                      3\n",
       "C Reith                       2\n",
       "C Williams                    2\n",
       "Y Fukunaga                    2\n",
       "T Berry                       2\n",
       "J McDonald                    1\n",
       "C Soumillon                   1\n",
       "S Pasquier                    1\n",
       "H Bowman                      1\n",
       "R Moore                       1"
      ]
     },
     "execution_count": 14,
     "metadata": {},
     "output_type": "execute_result"
    }
   ],
   "source": [
    "winners = df.loc[df['finishing_position'] == 1]\n",
    "wins = []\n",
    "\n",
    "for j in jockeys:\n",
    "    w = 0\n",
    "    for row in winners['jockey']:\n",
    "        if(j == row):\n",
    "            w+=1\n",
    "\n",
    "    wins.append(w)\n",
    "\n",
    "\n",
    "win_df = df.loc[df['finishing_position'] == 1]\n",
    "\n",
    "jockey_wins = win_df[['jockey','finishing_position']]\n",
    "\n",
    "jockey_wins.groupby('jockey').count().sort_values(['finishing_position'], ascending=False)"
   ]
  },
  {
   "cell_type": "code",
   "execution_count": 15,
   "metadata": {},
   "outputs": [
    {
     "data": {
      "text/plain": [
       "Text(0.5, 0, 'jockey')"
      ]
     },
     "execution_count": 15,
     "metadata": {},
     "output_type": "execute_result"
    },
    {
     "data": {
      "image/png": "[encoded data removed]",
      "text/plain": [
       "<Figure size 432x288 with 1 Axes>"
      ]
     },
     "metadata": {
      "needs_background": "light"
     },
     "output_type": "display_data"
    }
   ],
   "source": [
    "plt.plot(jockey_wins.groupby('jockey').count().sort_values(['finishing_position'], ascending=False).head(5))\n",
    "plt.title('Top 5 Jockey Wins')\n",
    "plt.ylabel('Wins')\n",
    "plt.xlabel('jockey')"
   ]
  },
  {
   "cell_type": "markdown",
   "metadata": {},
   "source": [
    "From examining the jockey data in the training set, we can determine that the rider of the horse can give us a large indication of whether or not the horse is likely to be a winner.\n",
    "\n",
    "J Moreira for instance is the most decorated jockey with nearly 150 winners to his name. If we were to find his name down as the jockey for a horse then we could raise the likelyhood of that horse winning the race substantially.\n",
    "\n",
    "The same can be said for the other jockeys seen in the top five above, with the jockey in 5th place, N Callan, having 47 wins.\n",
    "\n",
    "### Creating 'jockey_wins'\n",
    "\n",
    "Similar to what we did when creating 'horse_wins', we now need to find a way to convert a jockeys name into a numerical value to demonstrate their winning capabilities.\n",
    "\n",
    "To do this we will follow the same steps as before."
   ]
  },
  {
   "cell_type": "code",
   "execution_count": 16,
   "metadata": {},
   "outputs": [],
   "source": [
    "# This makes a dict with jockeys and their corresponding wins\n",
    "jockey_win_dict = dict(zip(jockeys, wins))\n",
    "\n",
    "df['jockey_wins'] = df['jockey']\n",
    "df['jockey_wins'] = df['jockey_wins'].map(jockey_win_dict)\n",
    "df['jockey_wins'] = df['jockey_wins'].fillna(0)\n",
    "df['jockey_wins'] = df['jockey_wins'].astype(int)"
   ]
  },
  {
   "cell_type": "markdown",
   "metadata": {},
   "source": [
    "Lets classify jockey_wins into categories."
   ]
  },
  {
   "cell_type": "code",
   "execution_count": 17,
   "metadata": {},
   "outputs": [
    {
     "data": {
      "image/png": "[encoded data removed]",
      "text/plain": [
       "<Figure size 720x360 with 1 Axes>"
      ]
     },
     "metadata": {
      "needs_background": "light"
     },
     "output_type": "display_data"
    }
   ],
   "source": [
    "# Create the categories for jockey_wins\n",
    "df['jockey_wins'] = df['jockey_wins'].astype(int)\n",
    "df.loc[ df['jockey_wins'] <= 20, 'jockey_wins'] = 8\n",
    "df.loc[(df['jockey_wins'] > 20) & (df['jockey_wins'] <= 40), 'jockey_wins'] = 7\n",
    "df.loc[(df['jockey_wins'] > 40) & (df['jockey_wins'] <= 60), 'jockey_wins'] = 6\n",
    "df.loc[(df['jockey_wins'] > 60) & (df['jockey_wins'] <= 80), 'jockey_wins'] = 5\n",
    "df.loc[(df['jockey_wins'] > 80) & (df['jockey_wins'] <= 100), 'jockey_wins'] = 4\n",
    "df.loc[(df['jockey_wins'] > 100) & (df['jockey_wins'] <= 120), 'jockey_wins'] = 3\n",
    "df.loc[(df['jockey_wins'] > 120) & (df['jockey_wins'] <= 140), 'jockey_wins'] = 2\n",
    "df.loc[(df['jockey_wins'] > 140) & (df['jockey_wins'] <= 160), 'jockey_wins'] = 1\n",
    "\n",
    "\n",
    "jockey_count  = df['jockey_wins'].value_counts()\n",
    "plt.figure(figsize=(10,5))\n",
    "sns.barplot(jockey_count.index, jockey_count.values, alpha=0.8)\n",
    "plt.title('Jockey win categories')\n",
    "plt.ylabel('Number of Occurrences', fontsize=12)\n",
    "plt.xlabel('Category', fontsize=12)\n",
    "plt.show()"
   ]
  },
  {
   "cell_type": "markdown",
   "metadata": {},
   "source": [
    "Once again, since we have now created a numerical value for identifying how good a horses jockey is, we no longer require the 'jockey' column."
   ]
  },
  {
   "cell_type": "code",
   "execution_count": 18,
   "metadata": {},
   "outputs": [],
   "source": [
    "df = df.drop(['jockey'], axis=1)"
   ]
  },
  {
   "cell_type": "markdown",
   "metadata": {},
   "source": [
    "### 3. Trainer\n",
    "\n",
    "Now we'll look at how the horses trainer may be related to their chances of winning."
   ]
  },
  {
   "cell_type": "code",
   "execution_count": 19,
   "metadata": {},
   "outputs": [
    {
     "data": {
      "text/plain": [
       "50"
      ]
     },
     "execution_count": 19,
     "metadata": {},
     "output_type": "execute_result"
    }
   ],
   "source": [
    "trainers = df['trainer'].unique()\n",
    "trainers.size"
   ]
  },
  {
   "cell_type": "markdown",
   "metadata": {},
   "source": [
    "There are 50 unique trainers in the dataset.\n",
    "\n",
    "Lets see how many wins each trainer has."
   ]
  },
  {
   "cell_type": "code",
   "execution_count": 20,
   "metadata": {},
   "outputs": [
    {
     "data": {
      "text/html": [
       "<div>\n",
       "<style scoped>\n",
       "    .dataframe tbody tr th:only-of-type {\n",
       "        vertical-align: middle;\n",
       "    }\n",
       "\n",
       "    .dataframe tbody tr th {\n",
       "        vertical-align: top;\n",
       "    }\n",
       "\n",
       "    .dataframe thead th {\n",
       "        text-align: right;\n",
       "    }\n",
       "</style>\n",
       "<table border=\"1\" class=\"dataframe\">\n",
       "  <thead>\n",
       "    <tr style=\"text-align: right;\">\n",
       "      <th></th>\n",
       "      <th>finishing_position</th>\n",
       "    </tr>\n",
       "    <tr>\n",
       "      <th>trainer</th>\n",
       "      <th></th>\n",
       "    </tr>\n",
       "  </thead>\n",
       "  <tbody>\n",
       "    <tr>\n",
       "      <th>J Moore</th>\n",
       "      <td>70</td>\n",
       "    </tr>\n",
       "    <tr>\n",
       "      <th>J Size</th>\n",
       "      <td>63</td>\n",
       "    </tr>\n",
       "    <tr>\n",
       "      <th>C Fownes</th>\n",
       "      <td>59</td>\n",
       "    </tr>\n",
       "    <tr>\n",
       "      <th>A S Cruz</th>\n",
       "      <td>45</td>\n",
       "    </tr>\n",
       "    <tr>\n",
       "      <th>C S Shum</th>\n",
       "      <td>43</td>\n",
       "    </tr>\n",
       "    <tr>\n",
       "      <th>P O'Sullivan</th>\n",
       "      <td>39</td>\n",
       "    </tr>\n",
       "    <tr>\n",
       "      <th>K L Man</th>\n",
       "      <td>37</td>\n",
       "    </tr>\n",
       "    <tr>\n",
       "      <th>K W Lui</th>\n",
       "      <td>36</td>\n",
       "    </tr>\n",
       "    <tr>\n",
       "      <th>Y S Tsui</th>\n",
       "      <td>36</td>\n",
       "    </tr>\n",
       "    <tr>\n",
       "      <th>D J Hall</th>\n",
       "      <td>34</td>\n",
       "    </tr>\n",
       "    <tr>\n",
       "      <th>W Y So</th>\n",
       "      <td>33</td>\n",
       "    </tr>\n",
       "    <tr>\n",
       "      <th>C H Yip</th>\n",
       "      <td>31</td>\n",
       "    </tr>\n",
       "    <tr>\n",
       "      <th>A T Millard</th>\n",
       "      <td>31</td>\n",
       "    </tr>\n",
       "    <tr>\n",
       "      <th>P F Yiu</th>\n",
       "      <td>31</td>\n",
       "    </tr>\n",
       "    <tr>\n",
       "      <th>T P Yung</th>\n",
       "      <td>30</td>\n",
       "    </tr>\n",
       "    <tr>\n",
       "      <th>R Gibson</th>\n",
       "      <td>27</td>\n",
       "    </tr>\n",
       "    <tr>\n",
       "      <th>D Cruz</th>\n",
       "      <td>22</td>\n",
       "    </tr>\n",
       "    <tr>\n",
       "      <th>D E Ferraris</th>\n",
       "      <td>22</td>\n",
       "    </tr>\n",
       "    <tr>\n",
       "      <th>A Lee</th>\n",
       "      <td>22</td>\n",
       "    </tr>\n",
       "    <tr>\n",
       "      <th>L Ho</th>\n",
       "      <td>22</td>\n",
       "    </tr>\n",
       "    <tr>\n",
       "      <th>C W Chang</th>\n",
       "      <td>13</td>\n",
       "    </tr>\n",
       "    <tr>\n",
       "      <th>T K Ng</th>\n",
       "      <td>13</td>\n",
       "    </tr>\n",
       "    <tr>\n",
       "      <th>A Schutz</th>\n",
       "      <td>12</td>\n",
       "    </tr>\n",
       "    <tr>\n",
       "      <th>S Woods</th>\n",
       "      <td>12</td>\n",
       "    </tr>\n",
       "    <tr>\n",
       "      <th>A Fabre</th>\n",
       "      <td>1</td>\n",
       "    </tr>\n",
       "  </tbody>\n",
       "</table>\n",
       "</div>"
      ],
      "text/plain": [
       "              finishing_position\n",
       "trainer                         \n",
       "J Moore                       70\n",
       "J Size                        63\n",
       "C Fownes                      59\n",
       "A S Cruz                      45\n",
       "C S Shum                      43\n",
       "P O'Sullivan                  39\n",
       "K L Man                       37\n",
       "K W Lui                       36\n",
       "Y S Tsui                      36\n",
       "D J Hall                      34\n",
       "W Y So                        33\n",
       "C H Yip                       31\n",
       "A T Millard                   31\n",
       "P F Yiu                       31\n",
       "T P Yung                      30\n",
       "R Gibson                      27\n",
       "D Cruz                        22\n",
       "D E Ferraris                  22\n",
       "A Lee                         22\n",
       "L Ho                          22\n",
       "C W Chang                     13\n",
       "T K Ng                        13\n",
       "A Schutz                      12\n",
       "S Woods                       12\n",
       "A Fabre                        1"
      ]
     },
     "execution_count": 20,
     "metadata": {},
     "output_type": "execute_result"
    }
   ],
   "source": [
    "winners = df.loc[df['finishing_position'] == 1]\n",
    "wins = []\n",
    "\n",
    "for t in trainers:\n",
    "    w = 0\n",
    "    for row in winners['trainer']:\n",
    "        if(t == row):\n",
    "            w+=1\n",
    "\n",
    "    wins.append(w)\n",
    "\n",
    "win_df = df.loc[df['finishing_position'] == 1]\n",
    "\n",
    "trainer_wins = win_df[['trainer','finishing_position']]\n",
    "\n",
    "trainer_wins.groupby('trainer').count().sort_values(['finishing_position'], ascending=False)"
   ]
  },
  {
   "cell_type": "markdown",
   "metadata": {},
   "source": [
    "Since wins among trainers are more normally distributed when compared to jockey's wins, we will take a different approach here and use categories to define trainers.\n",
    "\n",
    "We will create the following categories:\n",
    "0-10, 11-20, 21-30, 31-40, 41-50, 51-60, 61-70\n",
    "\n",
    "### Creating 'trainer_wins'\n",
    "#### Lets use categories"
   ]
  },
  {
   "cell_type": "code",
   "execution_count": 21,
   "metadata": {},
   "outputs": [
    {
     "data": {
      "image/png": "[encoded data removed]",
      "text/plain": [
       "<Figure size 720x360 with 1 Axes>"
      ]
     },
     "metadata": {
      "needs_background": "light"
     },
     "output_type": "display_data"
    }
   ],
   "source": [
    "# This makes a dict with trainers and their corresponding wins\n",
    "trainer_win_dict = dict(zip(trainers, wins))\n",
    "\n",
    "df['trainer_wins'] = df['trainer']\n",
    "df['trainer_wins'] = df['trainer_wins'].map(trainer_win_dict)\n",
    "df['trainer_wins'] = df['trainer_wins'].fillna(0)\n",
    "df['trainer_wins'] = df['trainer_wins'].astype(int)\n",
    "\n",
    "\n",
    "# Create the categories for trainer_wins\n",
    "df['trainer_wins'] = df['trainer_wins'].astype(int)\n",
    "df.loc[ df['trainer_wins'] <= 10, 'trainer_wins'] = 0\n",
    "df.loc[(df['trainer_wins'] > 11) & (df['trainer_wins'] <= 20), 'trainer_wins'] = 6\n",
    "df.loc[(df['trainer_wins'] > 20) & (df['trainer_wins'] <= 30), 'trainer_wins'] = 5\n",
    "df.loc[(df['trainer_wins'] > 30) & (df['trainer_wins'] <= 40), 'trainer_wins'] = 4\n",
    "df.loc[(df['trainer_wins'] > 40) & (df['trainer_wins'] <= 50), 'trainer_wins'] = 3\n",
    "df.loc[(df['trainer_wins'] > 50) & (df['trainer_wins'] <= 60), 'trainer_wins'] = 2\n",
    "df.loc[(df['trainer_wins'] > 60) & (df['trainer_wins'] <= 70), 'trainer_wins'] = 1\n",
    "\n",
    "\n",
    "trainer_count  = df['trainer_wins'].value_counts()\n",
    "plt.figure(figsize=(10,5))\n",
    "sns.barplot(trainer_count.index, trainer_count.values, alpha=0.8)\n",
    "plt.title('Trainer win categories')\n",
    "plt.ylabel('Number of Occurrences', fontsize=12)\n",
    "plt.xlabel('Category', fontsize=12)\n",
    "plt.show()"
   ]
  },
  {
   "cell_type": "markdown",
   "metadata": {},
   "source": [
    "We can now drop 'trainer' in favour of 'trainer_wins'."
   ]
  },
  {
   "cell_type": "code",
   "execution_count": 22,
   "metadata": {},
   "outputs": [],
   "source": [
    "df = df.drop(['trainer'], axis=1)"
   ]
  },
  {
   "cell_type": "markdown",
   "metadata": {},
   "source": [
    "### 4. Actual Weight\n",
    "\n",
    "We will next look at handicap weights given to horses to see if there is any trend between them and the winning horse."
   ]
  },
  {
   "cell_type": "code",
   "execution_count": 23,
   "metadata": {},
   "outputs": [
    {
     "data": {
      "text/plain": [
       "30"
      ]
     },
     "execution_count": 23,
     "metadata": {},
     "output_type": "execute_result"
    }
   ],
   "source": [
    "handicaps = df['actual_weight'].unique()\n",
    "handicaps.size"
   ]
  },
  {
   "cell_type": "markdown",
   "metadata": {},
   "source": [
    "There are 30 different weight classes given to horses. Lets see how often they occur."
   ]
  },
  {
   "cell_type": "code",
   "execution_count": 24,
   "metadata": {},
   "outputs": [
    {
     "data": {
      "image/png": "[encoded data removed]",
      "text/plain": [
       "<Figure size 1080x576 with 1 Axes>"
      ]
     },
     "metadata": {
      "needs_background": "light"
     },
     "output_type": "display_data"
    },
    {
     "data": {
      "image/png": "[encoded data removed]",
      "text/plain": [
       "<Figure size 1080x576 with 1 Axes>"
      ]
     },
     "metadata": {
      "needs_background": "light"
     },
     "output_type": "display_data"
    }
   ],
   "source": [
    "win_df = df.loc[df['finishing_position'] == 1]\n",
    "wins = []\n",
    "\n",
    "for h in handicaps:\n",
    "    w = 0\n",
    "    for row in win_df['actual_weight']:\n",
    "        if(h == row):\n",
    "            w+=1\n",
    "\n",
    "    wins.append(w)\n",
    "\n",
    "plt.figure(figsize=(15,8))\n",
    "sns.barplot(handicaps, wins, alpha=0.8)\n",
    "plt.title('Handicap wins')\n",
    "plt.ylabel('Number of wins', fontsize=12)\n",
    "plt.xlabel('Handicap weights', fontsize=12)\n",
    "plt.show()\n",
    "\n",
    "aw = df['actual_weight'].value_counts()\n",
    "plt.figure(figsize=(15,8))\n",
    "sns.barplot(aw.index, aw.values, alpha=0.8)\n",
    "plt.title('Handicap frequencies')\n",
    "plt.ylabel('Number of occurences', fontsize=12)\n",
    "plt.xlabel('Handicap weights', fontsize=12)\n",
    "plt.show()"
   ]
  },
  {
   "cell_type": "markdown",
   "metadata": {},
   "source": [
    "#### Conclusion\n",
    "\n",
    "The two charts above show us that there is no clear relationship between a handicap weight and winning the race.\n",
    "\n",
    "Although horses given a handicap of 133 have won the most races, our second graph shows us that a handicap of 133 is the second most common handicap given to a horse.\n",
    "\n",
    "The overall match up of the two distributions allows us to conclude that the handicap is doing the job it was designed for. Levelling the playing field between horses. As a result of this, we will remove 'actual_weight' from our dataset."
   ]
  },
  {
   "cell_type": "code",
   "execution_count": 25,
   "metadata": {},
   "outputs": [],
   "source": [
    "df = df.drop(['actual_weight'], axis=1)"
   ]
  },
  {
   "cell_type": "markdown",
   "metadata": {},
   "source": [
    "### 5. Draw\n",
    "\n",
    "Next, we will evaluate the relationship between a horses drawn starting position and winning the race."
   ]
  },
  {
   "cell_type": "code",
   "execution_count": 26,
   "metadata": {},
   "outputs": [
    {
     "data": {
      "text/plain": [
       "15"
      ]
     },
     "execution_count": 26,
     "metadata": {},
     "output_type": "execute_result"
    }
   ],
   "source": [
    "draws = df['draw'].unique()\n",
    "draws.size"
   ]
  },
  {
   "cell_type": "markdown",
   "metadata": {},
   "source": [
    "There are 15 unique possible draws."
   ]
  },
  {
   "cell_type": "code",
   "execution_count": 27,
   "metadata": {},
   "outputs": [
    {
     "data": {
      "image/png": "[encoded data removed]",
      "text/plain": [
       "<Figure size 720x576 with 1 Axes>"
      ]
     },
     "metadata": {
      "needs_background": "light"
     },
     "output_type": "display_data"
    },
    {
     "data": {
      "image/png": "[encoded data removed]",
      "text/plain": [
       "<Figure size 720x576 with 1 Axes>"
      ]
     },
     "metadata": {
      "needs_background": "light"
     },
     "output_type": "display_data"
    }
   ],
   "source": [
    "win_df = df.loc[df['finishing_position'] == 1]\n",
    "wins = []\n",
    "\n",
    "for d in draws:\n",
    "    w = 0\n",
    "    for row in win_df['draw']:\n",
    "        if(d == row):\n",
    "            w+=1\n",
    "\n",
    "    wins.append(w)\n",
    "\n",
    "\n",
    "draw_wins = win_df[['draw','finishing_position']]\n",
    "\n",
    "plt.figure(figsize=(10,8))\n",
    "sns.barplot(draws, wins, alpha=0.8)\n",
    "plt.title('Draw position wins')\n",
    "plt.ylabel('Number of wins', fontsize=12)\n",
    "plt.xlabel('Handicap', fontsize=12)\n",
    "plt.show()\n",
    "\n",
    "d = df['draw'].value_counts()\n",
    "plt.figure(figsize=(10,8))\n",
    "sns.barplot(d.index, d.values, alpha=0.8)\n",
    "plt.title('Draw position frequency')\n",
    "plt.ylabel('Frequency of occurences', fontsize=12)\n",
    "plt.xlabel('Draw', fontsize=12)\n",
    "plt.show()"
   ]
  },
  {
   "cell_type": "markdown",
   "metadata": {},
   "source": [
    "### Findings\n",
    "\n",
    "From the two graphs above, the first checking how often a horse in a specific draw position wins and the second checking how often a horse is drawn in each position, we can draw some very interesting findings.\n",
    "\n",
    "The second graph shows us that horses are drawn quite evenly accross each position, with numbers falling slightly towards the 9-15 range. This drop is due to many races being run with less than 15 horses.\n",
    "\n",
    "The first graph shows us that position 1 is the most favourable position for a horse to start from, with position 2 and 3 following in second and third. Position 4 drops off somewhat while positions 5-8 maintain the same downward curve as positions 1-3. This could be due to position 4 often ending up right in the middle of races with 7-10 horses.\n",
    "\n",
    "The high win rate of draw positions 1-3 could be contributed to the fact that those positions start near the inside railing of the racetrack, giving horses starting there an advantage and letting them get into position more easily than horses starting on the outside.\n",
    "\n",
    "#### How to class starting position\n",
    "We need a method to convert a starting position into a value which describes the desirability of the position in terms of winning the race.\n",
    "\n",
    "By ranking the positions based on the first graph we come up with:"
   ]
  },
  {
   "cell_type": "code",
   "execution_count": 28,
   "metadata": {},
   "outputs": [
    {
     "data": {
      "text/html": [
       "<div>\n",
       "<style scoped>\n",
       "    .dataframe tbody tr th:only-of-type {\n",
       "        vertical-align: middle;\n",
       "    }\n",
       "\n",
       "    .dataframe tbody tr th {\n",
       "        vertical-align: top;\n",
       "    }\n",
       "\n",
       "    .dataframe thead th {\n",
       "        text-align: right;\n",
       "    }\n",
       "</style>\n",
       "<table border=\"1\" class=\"dataframe\">\n",
       "  <thead>\n",
       "    <tr style=\"text-align: right;\">\n",
       "      <th></th>\n",
       "      <th>finishing_position</th>\n",
       "    </tr>\n",
       "    <tr>\n",
       "      <th>draw</th>\n",
       "      <th></th>\n",
       "    </tr>\n",
       "  </thead>\n",
       "  <tbody>\n",
       "    <tr>\n",
       "      <th>1</th>\n",
       "      <td>93</td>\n",
       "    </tr>\n",
       "    <tr>\n",
       "      <th>2</th>\n",
       "      <td>84</td>\n",
       "    </tr>\n",
       "    <tr>\n",
       "      <th>3</th>\n",
       "      <td>76</td>\n",
       "    </tr>\n",
       "    <tr>\n",
       "      <th>5</th>\n",
       "      <td>69</td>\n",
       "    </tr>\n",
       "    <tr>\n",
       "      <th>6</th>\n",
       "      <td>61</td>\n",
       "    </tr>\n",
       "    <tr>\n",
       "      <th>9</th>\n",
       "      <td>61</td>\n",
       "    </tr>\n",
       "    <tr>\n",
       "      <th>7</th>\n",
       "      <td>56</td>\n",
       "    </tr>\n",
       "    <tr>\n",
       "      <th>4</th>\n",
       "      <td>55</td>\n",
       "    </tr>\n",
       "    <tr>\n",
       "      <th>8</th>\n",
       "      <td>52</td>\n",
       "    </tr>\n",
       "    <tr>\n",
       "      <th>12</th>\n",
       "      <td>47</td>\n",
       "    </tr>\n",
       "    <tr>\n",
       "      <th>10</th>\n",
       "      <td>45</td>\n",
       "    </tr>\n",
       "    <tr>\n",
       "      <th>11</th>\n",
       "      <td>43</td>\n",
       "    </tr>\n",
       "    <tr>\n",
       "      <th>14</th>\n",
       "      <td>24</td>\n",
       "    </tr>\n",
       "    <tr>\n",
       "      <th>13</th>\n",
       "      <td>18</td>\n",
       "    </tr>\n",
       "  </tbody>\n",
       "</table>\n",
       "</div>"
      ],
      "text/plain": [
       "      finishing_position\n",
       "draw                    \n",
       "1                     93\n",
       "2                     84\n",
       "3                     76\n",
       "5                     69\n",
       "6                     61\n",
       "9                     61\n",
       "7                     56\n",
       "4                     55\n",
       "8                     52\n",
       "12                    47\n",
       "10                    45\n",
       "11                    43\n",
       "14                    24\n",
       "13                    18"
      ]
     },
     "execution_count": 28,
     "metadata": {},
     "output_type": "execute_result"
    }
   ],
   "source": [
    "draw_wins.groupby('draw').count().sort_values(['finishing_position'], ascending=False)"
   ]
  },
  {
   "cell_type": "markdown",
   "metadata": {},
   "source": [
    "### Creating draw_rank\n",
    "\n",
    "Now we'll create a new feature called draw rank to rank each starting position.\n",
    "\n",
    "We will break them down into 5 ranks [1-5]."
   ]
  },
  {
   "cell_type": "code",
   "execution_count": 29,
   "metadata": {},
   "outputs": [
    {
     "data": {
      "text/plain": [
       "Text(0, 0.5, 'Number of occurences')"
      ]
     },
     "execution_count": 29,
     "metadata": {},
     "output_type": "execute_result"
    },
    {
     "data": {
      "image/png": "[encoded data removed]",
      "text/plain": [
       "<Figure size 432x288 with 1 Axes>"
      ]
     },
     "metadata": {
      "needs_background": "light"
     },
     "output_type": "display_data"
    }
   ],
   "source": [
    "draws_sorted = [1,2,3,5,6,9,7,4,8,12,10,11,14,13,15]\n",
    "draws_rank = [1,1,1,2,2,2,3,3,3,4,4,4,5,5,5]\n",
    "\n",
    "draws_dict = dict(zip(draws_sorted, draws_rank))\n",
    "\n",
    "df['draw_rank'] = df['draw']\n",
    "df['draw_rank'] = df['draw_rank'].map(draws_dict)\n",
    "df['draw_rank'] = df['draw_rank'].astype(int)\n",
    "\n",
    "dr_count = df['draw_rank'].value_counts()\n",
    "sns.barplot(dr_count.index, dr_count.values)\n",
    "plt.title(\"Draw Rank Frequencies\")\n",
    "plt.xlabel(\"Ranks\")\n",
    "plt.ylabel(\"Number of occurences\")"
   ]
  },
  {
   "cell_type": "markdown",
   "metadata": {},
   "source": [
    "Lastly we'll drop the 'draw' feature."
   ]
  },
  {
   "cell_type": "code",
   "execution_count": 30,
   "metadata": {},
   "outputs": [],
   "source": [
    "df = df.drop(['draw'], axis=1)"
   ]
  },
  {
   "cell_type": "markdown",
   "metadata": {},
   "source": [
    "### Running positions\n",
    "\n",
    "Next we'll look at running positions to see how we might predicit the outcome using the horses position after each of the first 3 quarters of the race.\n",
    "\n",
    "We will check how frequently a horse in a specific position, at each of the three quarters, went on to win the race."
   ]
  },
  {
   "cell_type": "code",
   "execution_count": 31,
   "metadata": {},
   "outputs": [
    {
     "data": {
      "text/plain": [
       "Text(0, 0.5, 'Number of wins')"
      ]
     },
     "execution_count": 31,
     "metadata": {},
     "output_type": "execute_result"
    },
    {
     "data": {
      "image/png": "[encoded data removed]",
      "text/plain": [
       "<Figure size 576x360 with 1 Axes>"
      ]
     },
     "metadata": {
      "needs_background": "light"
     },
     "output_type": "display_data"
    },
    {
     "data": {
      "image/png": "[encoded data removed]",
      "text/plain": [
       "<Figure size 576x360 with 1 Axes>"
      ]
     },
     "metadata": {
      "needs_background": "light"
     },
     "output_type": "display_data"
    },
    {
     "data": {
      "image/png": "[encoded data removed]",
      "text/plain": [
       "<Figure size 576x360 with 1 Axes>"
      ]
     },
     "metadata": {
      "needs_background": "light"
     },
     "output_type": "display_data"
    }
   ],
   "source": [
    "win_df = df.loc[df['finishing_position'] == 1]\n",
    "\n",
    "run1 = win_df['running_position_1'].value_counts()\n",
    "run2 = win_df['running_position_2'].value_counts()\n",
    "run3 = win_df['running_position_3'].value_counts()\n",
    "\n",
    "plt.figure(figsize=(8,5))\n",
    "sns.barplot(run1.index, run1.values, alpha=1)\n",
    "plt.title(\"Position of horses after 1st quarter that went on to win\")\n",
    "plt.xlabel(\"Position\")\n",
    "plt.ylabel(\"Number of wins\")\n",
    "\n",
    "plt.figure(figsize=(8,5))\n",
    "sns.barplot(run2.index, run2.values, alpha=1)\n",
    "plt.title(\"Position of horses at the halfway mark that went on to win\")\n",
    "plt.xlabel(\"Position\")\n",
    "plt.ylabel(\"Number of wins\")\n",
    "\n",
    "plt.figure(figsize=(8,5))\n",
    "sns.barplot(run3.index, run3.values, alpha=1)\n",
    "plt.title(\"Position of horses after 3rd quarter that went on to win\")\n",
    "plt.xlabel(\"Position\")\n",
    "plt.ylabel(\"Number of wins\")"
   ]
  },
  {
   "cell_type": "markdown",
   "metadata": {},
   "source": [
    "### Results\n",
    "\n",
    "The results we found were mostly predictable. The horse in first position at each quarter won most often. This is most obvious when we look at the 3rd graph, as we can see that over 400 winning horses won the race having come into the last quarter in first place.\n",
    "\n",
    "The rest of the data throws no real suprises either with the likelyhood of a horse winning decreasing the further from the front the horse is.\n",
    "\n",
    "\n",
    "### 7. Win odds\n",
    "\n",
    "The odds given to a horse by the bookies is their predicition of the horses chances of winning. Lets see how accurate the bookies were."
   ]
  },
  {
   "cell_type": "code",
   "execution_count": 32,
   "metadata": {},
   "outputs": [
    {
     "data": {
      "text/plain": [
       "129"
      ]
     },
     "execution_count": 32,
     "metadata": {},
     "output_type": "execute_result"
    }
   ],
   "source": [
    "win_df = df.loc[df['finishing_position'] == 1]\n",
    "\n",
    "win_df['win_odds'].unique().size"
   ]
  },
  {
   "cell_type": "markdown",
   "metadata": {},
   "source": [
    "There are 129 unique odds given to horses.\n",
    "\n",
    "Highest odds of a winning horse:"
   ]
  },
  {
   "cell_type": "code",
   "execution_count": 33,
   "metadata": {},
   "outputs": [
    {
     "data": {
      "text/plain": [
       "99.0"
      ]
     },
     "execution_count": 33,
     "metadata": {},
     "output_type": "execute_result"
    }
   ],
   "source": [
    "win_df['win_odds'].max()"
   ]
  },
  {
   "cell_type": "markdown",
   "metadata": {},
   "source": [
    "Lowest odds of a winning horse:"
   ]
  },
  {
   "cell_type": "code",
   "execution_count": 34,
   "metadata": {},
   "outputs": [
    {
     "data": {
      "text/plain": [
       "1.1"
      ]
     },
     "execution_count": 34,
     "metadata": {},
     "output_type": "execute_result"
    }
   ],
   "source": [
    "win_df['win_odds'].min()"
   ]
  },
  {
   "cell_type": "markdown",
   "metadata": {},
   "source": [
    "This demonstrates the massive range of odds a winning horse could have.\n",
    "\n",
    "Lets see if there's a pattern."
   ]
  },
  {
   "cell_type": "code",
   "execution_count": 35,
   "metadata": {},
   "outputs": [
    {
     "data": {
      "text/plain": [
       "Text(0, 0.5, 'Wins')"
      ]
     },
     "execution_count": 35,
     "metadata": {},
     "output_type": "execute_result"
    },
    {
     "data": {
      "image/png": "[encoded data removed]",
      "text/plain": [
       "<Figure size 4320x1080 with 1 Axes>"
      ]
     },
     "metadata": {
      "needs_background": "light"
     },
     "output_type": "display_data"
    }
   ],
   "source": [
    "win_o = win_df['win_odds'].value_counts()\n",
    "\n",
    "plt.figure(figsize=(60,15))\n",
    "sns.barplot(win_o.index, win_o.values, alpha=1)\n",
    "plt.title(\"Winners at specific win odds\", fontsize=\"45\")\n",
    "plt.xlabel(\"Odds\", fontsize=\"45\")\n",
    "plt.ylabel(\"Wins\", fontsize=\"45\")"
   ]
  },
  {
   "cell_type": "markdown",
   "metadata": {},
   "source": [
    "The graph above is difficult to read due to its size.\n",
    "\n",
    "The y axis goes from 0-25 and is a measure of the number of wins a particular odds price has.\n",
    "The x axis goes from 1.1 to 99.0, our odds range.\n",
    "\n",
    "The majority of wins come from horses in the lower odds ranges i.e 1.0-3.0 (red-orange area).\n",
    "\n",
    "Another large chunk come from horses with odds between 10.0 & 13.0. (blue-purple area)\n",
    "\n",
    "Lets see if this is merely due to most horses being priced in this range, or if there's some hidden pattern."
   ]
  },
  {
   "cell_type": "code",
   "execution_count": 36,
   "metadata": {},
   "outputs": [
    {
     "data": {
      "text/plain": [
       "Text(0, 0.5, 'Occurrences')"
      ]
     },
     "execution_count": 36,
     "metadata": {},
     "output_type": "execute_result"
    },
    {
     "data": {
      "image/png": "[encoded data removed]",
      "text/plain": [
       "<Figure size 4320x1080 with 1 Axes>"
      ]
     },
     "metadata": {
      "needs_background": "light"
     },
     "output_type": "display_data"
    }
   ],
   "source": [
    "win_o2 = df['win_odds'].value_counts()\n",
    "\n",
    "plt.figure(figsize=(60,15))\n",
    "sns.barplot(win_o2.index, win_o2.values, alpha=1)\n",
    "plt.title(\"Horses at specific win odds\", fontsize=\"45\")\n",
    "plt.xlabel(\"Odds\", fontsize=\"45\")\n",
    "plt.ylabel(\"Occurrences\", fontsize=\"45\")"
   ]
  },
  {
   "cell_type": "markdown",
   "metadata": {},
   "source": [
    "Once again this is hard to read but we can explain what's happening here.\n",
    "\n",
    "We can see that there is a large number of horses priced around the 10-13 mark (the blue spike). This contributes to the high number of winners in that price bracket we saw in the last graph. Due to the large volume of horses in this price range, there are more winners.\n",
    "\n",
    "The number of horses in the lower price bracket 1-3 looks to be much less that those in the 10-13, while in the graph above there are still just as many if not more winners. This is simply due to the fact that when a horse is priced so low, they win more often than not.\n",
    "\n",
    "As of writing this, we are deciding to drop 'win_odds' from our dataset and focus on building our models using the other features we've examined instead."
   ]
  },
  {
   "cell_type": "code",
   "execution_count": 37,
   "metadata": {},
   "outputs": [],
   "source": [
    "df = df.drop(['win_odds'], axis=1)"
   ]
  },
  {
   "cell_type": "markdown",
   "metadata": {},
   "source": [
    "### Here is a heatmap of our feature correlations"
   ]
  },
  {
   "cell_type": "code",
   "execution_count": 38,
   "metadata": {},
   "outputs": [
    {
     "data": {
      "text/plain": [
       "<matplotlib.axes._subplots.AxesSubplot at 0x7fac828b5940>"
      ]
     },
     "execution_count": 38,
     "metadata": {},
     "output_type": "execute_result"
    },
    {
     "data": {
      "image/png": "[encoded data removed]",
      "text/plain": [
       "<Figure size 432x288 with 2 Axes>"
      ]
     },
     "metadata": {
      "needs_background": "light"
     },
     "output_type": "display_data"
    }
   ],
   "source": [
    "corr = df.corr()\n",
    "sns.heatmap(corr, \n",
    "        xticklabels=corr.columns,\n",
    "        yticklabels=corr.columns)"
   ]
  },
  {
   "cell_type": "markdown",
   "metadata": {},
   "source": [
    "This heatmap shows us what features have the highest correlation to each other, and most importantly, to finishing_position.\n",
    "\n",
    "We can see the most obvious feature with a high correlation to finishing_position is 'finishing_position_3'. \n",
    "\n",
    "It also shows us that 'horse_wins' holds a low correlation to finishing_position, meaning the number of win a horse has doesnt have much of an impact on their likelyhood of winning."
   ]
  },
  {
   "cell_type": "markdown",
   "metadata": {},
   "source": [
    "## Predictive Modelling"
   ]
  },
  {
   "cell_type": "markdown",
   "metadata": {},
   "source": [
    "### Change finishing_position\n",
    "\n",
    "Before we start testing various algorithms, we will change finishing_position to be either a 1 or 0.\n",
    "\n",
    "1 will represent a win.\n",
    "0 will represent a loss."
   ]
  },
  {
   "cell_type": "code",
   "execution_count": 39,
   "metadata": {},
   "outputs": [],
   "source": [
    "win_loss = {0: 0, 1: 1, 2: 0, 3: 0, 4: 0, 5: 0, 6: 0, 7: 0, 8: 0, 9: 0, 10: 0, 11: 0, 12: 0, 13: 0, 14: 0, 15: 0}\n",
    "\n",
    "df['finishing_position'] = df['finishing_position'].map(win_loss)"
   ]
  },
  {
   "cell_type": "markdown",
   "metadata": {},
   "source": [
    "#### How the data looks now"
   ]
  },
  {
   "cell_type": "code",
   "execution_count": 40,
   "metadata": {},
   "outputs": [
    {
     "data": {
      "text/html": [
       "<div>\n",
       "<style scoped>\n",
       "    .dataframe tbody tr th:only-of-type {\n",
       "        vertical-align: middle;\n",
       "    }\n",
       "\n",
       "    .dataframe tbody tr th {\n",
       "        vertical-align: top;\n",
       "    }\n",
       "\n",
       "    .dataframe thead th {\n",
       "        text-align: right;\n",
       "    }\n",
       "</style>\n",
       "<table border=\"1\" class=\"dataframe\">\n",
       "  <thead>\n",
       "    <tr style=\"text-align: right;\">\n",
       "      <th></th>\n",
       "      <th>finishing_position</th>\n",
       "      <th>running_position_1</th>\n",
       "      <th>running_position_2</th>\n",
       "      <th>running_position_3</th>\n",
       "      <th>horse_wins</th>\n",
       "      <th>jockey_wins</th>\n",
       "      <th>trainer_wins</th>\n",
       "      <th>draw_rank</th>\n",
       "    </tr>\n",
       "  </thead>\n",
       "  <tbody>\n",
       "    <tr>\n",
       "      <th>0</th>\n",
       "      <td>1</td>\n",
       "      <td>1</td>\n",
       "      <td>2</td>\n",
       "      <td>2</td>\n",
       "      <td>1</td>\n",
       "      <td>6</td>\n",
       "      <td>5</td>\n",
       "      <td>1</td>\n",
       "    </tr>\n",
       "    <tr>\n",
       "      <th>1</th>\n",
       "      <td>0</td>\n",
       "      <td>8</td>\n",
       "      <td>9</td>\n",
       "      <td>9</td>\n",
       "      <td>2</td>\n",
       "      <td>5</td>\n",
       "      <td>5</td>\n",
       "      <td>5</td>\n",
       "    </tr>\n",
       "    <tr>\n",
       "      <th>2</th>\n",
       "      <td>0</td>\n",
       "      <td>2</td>\n",
       "      <td>1</td>\n",
       "      <td>1</td>\n",
       "      <td>2</td>\n",
       "      <td>8</td>\n",
       "      <td>4</td>\n",
       "      <td>1</td>\n",
       "    </tr>\n",
       "    <tr>\n",
       "      <th>3</th>\n",
       "      <td>0</td>\n",
       "      <td>6</td>\n",
       "      <td>4</td>\n",
       "      <td>5</td>\n",
       "      <td>5</td>\n",
       "      <td>1</td>\n",
       "      <td>3</td>\n",
       "      <td>1</td>\n",
       "    </tr>\n",
       "    <tr>\n",
       "      <th>4</th>\n",
       "      <td>0</td>\n",
       "      <td>9</td>\n",
       "      <td>10</td>\n",
       "      <td>10</td>\n",
       "      <td>0</td>\n",
       "      <td>4</td>\n",
       "      <td>4</td>\n",
       "      <td>2</td>\n",
       "    </tr>\n",
       "    <tr>\n",
       "      <th>5</th>\n",
       "      <td>0</td>\n",
       "      <td>12</td>\n",
       "      <td>13</td>\n",
       "      <td>13</td>\n",
       "      <td>0</td>\n",
       "      <td>8</td>\n",
       "      <td>4</td>\n",
       "      <td>4</td>\n",
       "    </tr>\n",
       "    <tr>\n",
       "      <th>6</th>\n",
       "      <td>0</td>\n",
       "      <td>4</td>\n",
       "      <td>3</td>\n",
       "      <td>3</td>\n",
       "      <td>0</td>\n",
       "      <td>7</td>\n",
       "      <td>4</td>\n",
       "      <td>4</td>\n",
       "    </tr>\n",
       "    <tr>\n",
       "      <th>7</th>\n",
       "      <td>0</td>\n",
       "      <td>5</td>\n",
       "      <td>6</td>\n",
       "      <td>6</td>\n",
       "      <td>0</td>\n",
       "      <td>8</td>\n",
       "      <td>5</td>\n",
       "      <td>3</td>\n",
       "    </tr>\n",
       "    <tr>\n",
       "      <th>8</th>\n",
       "      <td>0</td>\n",
       "      <td>7</td>\n",
       "      <td>7</td>\n",
       "      <td>7</td>\n",
       "      <td>0</td>\n",
       "      <td>7</td>\n",
       "      <td>5</td>\n",
       "      <td>2</td>\n",
       "    </tr>\n",
       "    <tr>\n",
       "      <th>9</th>\n",
       "      <td>0</td>\n",
       "      <td>11</td>\n",
       "      <td>11</td>\n",
       "      <td>12</td>\n",
       "      <td>0</td>\n",
       "      <td>8</td>\n",
       "      <td>6</td>\n",
       "      <td>3</td>\n",
       "    </tr>\n",
       "  </tbody>\n",
       "</table>\n",
       "</div>"
      ],
      "text/plain": [
       "   finishing_position  running_position_1  running_position_2  \\\n",
       "0                   1                   1                   2   \n",
       "1                   0                   8                   9   \n",
       "2                   0                   2                   1   \n",
       "3                   0                   6                   4   \n",
       "4                   0                   9                  10   \n",
       "5                   0                  12                  13   \n",
       "6                   0                   4                   3   \n",
       "7                   0                   5                   6   \n",
       "8                   0                   7                   7   \n",
       "9                   0                  11                  11   \n",
       "\n",
       "   running_position_3  horse_wins  jockey_wins  trainer_wins  draw_rank  \n",
       "0                   2           1            6             5          1  \n",
       "1                   9           2            5             5          5  \n",
       "2                   1           2            8             4          1  \n",
       "3                   5           5            1             3          1  \n",
       "4                  10           0            4             4          2  \n",
       "5                  13           0            8             4          4  \n",
       "6                   3           0            7             4          4  \n",
       "7                   6           0            8             5          3  \n",
       "8                   7           0            7             5          2  \n",
       "9                  12           0            8             6          3  "
      ]
     },
     "execution_count": 40,
     "metadata": {},
     "output_type": "execute_result"
    }
   ],
   "source": [
    "df.head(10)"
   ]
  },
  {
   "cell_type": "markdown",
   "metadata": {},
   "source": [
    "### Split the dataset"
   ]
  },
  {
   "cell_type": "code",
   "execution_count": 41,
   "metadata": {},
   "outputs": [],
   "source": [
    "# Split into training set and test set\n",
    "train_df, test_df = train_test_split(df, test_size=0.2)\n",
    "\n",
    "# Training data\n",
    "X_train = train_df.drop(\"finishing_position\", axis=1)\n",
    "\n",
    "# What we want to predict:\n",
    "Y_train = train_df[\"finishing_position\"]\n",
    "\n",
    "# Test data\n",
    "X_test  = test_df.drop(\"finishing_position\", axis=1)"
   ]
  },
  {
   "cell_type": "markdown",
   "metadata": {},
   "source": [
    "### Random Forest Classifier"
   ]
  },
  {
   "cell_type": "code",
   "execution_count": 42,
   "metadata": {},
   "outputs": [
    {
     "name": "stdout",
     "output_type": "stream",
     "text": [
      "99.41 %\n"
     ]
    }
   ],
   "source": [
    "random_forest = RandomForestClassifier(n_estimators=100)\n",
    "random_forest.fit(X_train, Y_train)\n",
    "\n",
    "Y_prediction = random_forest.predict(X_test)\n",
    "\n",
    "random_forest.score(X_train, Y_train)\n",
    "acc_random_forest = round(random_forest.score(X_train, Y_train) * 100, 2)\n",
    "print(round(acc_random_forest,2), \"%\")"
   ]
  },
  {
   "cell_type": "markdown",
   "metadata": {},
   "source": [
    "#### Feature Importance:"
   ]
  },
  {
   "cell_type": "code",
   "execution_count": 43,
   "metadata": {},
   "outputs": [
    {
     "name": "stdout",
     "output_type": "stream",
     "text": [
      "running_position_3    0.316018\n",
      "horse_wins            0.186897\n",
      "running_position_1    0.114558\n",
      "running_position_2    0.113566\n",
      "trainer_wins          0.094788\n",
      "jockey_wins           0.091128\n",
      "draw_rank             0.083045\n",
      "dtype: float64\n"
     ]
    }
   ],
   "source": [
    "featimp = pd.Series(random_forest.feature_importances_, index=X_train.columns).sort_values(ascending=False)\n",
    "print (featimp)"
   ]
  },
  {
   "cell_type": "markdown",
   "metadata": {},
   "source": [
    "This is a very pleasing result as having studied the data in the detail we have so far, if we were to guess on which feature would provide the best guess as to which horse won, we would have said 'running_position_3'."
   ]
  },
  {
   "cell_type": "markdown",
   "metadata": {},
   "source": [
    "#### 10-fold Cross Validation\n",
    "\n",
    "We will use random_forest again except this time we will apply 10-fold cross vaildation.\n",
    "\n",
    "Cross validation splits our training data into folds and tests the individual folds to come up with k different results. In our case we are using 10-fold cross validation so we will get 10 different results."
   ]
  },
  {
   "cell_type": "code",
   "execution_count": 44,
   "metadata": {},
   "outputs": [
    {
     "name": "stdout",
     "output_type": "stream",
     "text": [
      "Results: [0.95505618 0.94756554 0.95375    0.9475     0.94125    0.93125\n",
      " 0.9525     0.94625    0.94618273 0.94993742]\n",
      "Mean: 0.9471241873034177\n",
      "Standard Deviation: 0.0065735380596902175\n"
     ]
    }
   ],
   "source": [
    "k_fold_test = cross_val_score(random_forest, X_train, Y_train, cv=10, scoring = \"accuracy\")\n",
    "print(\"Results:\", k_fold_test)\n",
    "print(\"Mean:\", k_fold_test.mean())\n",
    "print(\"Standard Deviation:\", k_fold_test.std())"
   ]
  },
  {
   "cell_type": "markdown",
   "metadata": {},
   "source": [
    "This gives us a mean result of ~94%, down from 99.38% previously. This is still a very good score.\n",
    "\n",
    "The standard deviation means our results can differ by ~0.007%."
   ]
  },
  {
   "cell_type": "markdown",
   "metadata": {},
   "source": [
    "### Logistic Regression"
   ]
  },
  {
   "cell_type": "code",
   "execution_count": 45,
   "metadata": {},
   "outputs": [
    {
     "name": "stdout",
     "output_type": "stream",
     "text": [
      "92.85 %\n"
     ]
    }
   ],
   "source": [
    "logreg = LogisticRegression(solver='lbfgs')\n",
    "logreg.fit(X_train, Y_train)\n",
    "\n",
    "Y_pred = logreg.predict(X_test)\n",
    "\n",
    "acc_log = round(logreg.score(X_train, Y_train) * 100, 2)\n",
    "print(round(acc_log,2), \"%\")"
   ]
  },
  {
   "cell_type": "markdown",
   "metadata": {},
   "source": [
    "#### 10-fold Cross Validation"
   ]
  },
  {
   "cell_type": "code",
   "execution_count": 46,
   "metadata": {},
   "outputs": [
    {
     "name": "stdout",
     "output_type": "stream",
     "text": [
      "Results: [0.93632959 0.92134831 0.93       0.91875    0.9275     0.9275\n",
      " 0.93375    0.9325     0.93116395 0.9261577 ]\n",
      "Mean: 0.9284999554686804\n",
      "Standard Deviation: 0.00517597421888574\n"
     ]
    }
   ],
   "source": [
    "k_fold_test = cross_val_score(logreg, X_train, Y_train, cv=10, scoring = \"accuracy\")\n",
    "print(\"Results:\", k_fold_test)\n",
    "print(\"Mean:\", k_fold_test.mean())\n",
    "print(\"Standard Deviation:\", k_fold_test.std())"
   ]
  },
  {
   "cell_type": "markdown",
   "metadata": {},
   "source": [
    "Here we see a very minor change in results after using cross validation."
   ]
  },
  {
   "cell_type": "markdown",
   "metadata": {},
   "source": [
    "### Perceptron"
   ]
  },
  {
   "cell_type": "code",
   "execution_count": 47,
   "metadata": {},
   "outputs": [
    {
     "name": "stdout",
     "output_type": "stream",
     "text": [
      "92.89 %\n"
     ]
    }
   ],
   "source": [
    "# Perceptron\n",
    "perceptron = Perceptron(max_iter=10)\n",
    "perceptron.fit(X_train, Y_train)\n",
    "\n",
    "Y_pred = perceptron.predict(X_test)\n",
    "\n",
    "acc_perceptron = round(perceptron.score(X_train, Y_train) * 100, 2)\n",
    "print(round(acc_perceptron,2,), \"%\")"
   ]
  },
  {
   "cell_type": "markdown",
   "metadata": {},
   "source": [
    "#### 10-fold Cross Validation"
   ]
  },
  {
   "cell_type": "code",
   "execution_count": 48,
   "metadata": {},
   "outputs": [
    {
     "name": "stdout",
     "output_type": "stream",
     "text": [
      "Results: [0.93383271 0.93133583 0.91875    0.86125    0.93       0.8575\n",
      " 0.93375    0.9125     0.93241552 0.30162703]\n",
      "Mean: 0.8512961092517332\n",
      "Standard Deviation: 0.18530017722794026\n"
     ]
    }
   ],
   "source": [
    "k_fold_test = cross_val_score(perceptron, X_train, Y_train, cv=10, scoring = \"accuracy\")\n",
    "print(\"Results:\", k_fold_test)\n",
    "print(\"Mean:\", k_fold_test.mean())\n",
    "print(\"Standard Deviation:\", k_fold_test.std())"
   ]
  },
  {
   "cell_type": "markdown",
   "metadata": {},
   "source": [
    "By using 10-fold cross validation on the perceptron classifier we can see the varying scores our model recieves."
   ]
  },
  {
   "cell_type": "markdown",
   "metadata": {},
   "source": [
    "## Roc Curves\n",
    "\n",
    "### Random Forest"
   ]
  },
  {
   "cell_type": "code",
   "execution_count": 49,
   "metadata": {},
   "outputs": [
    {
     "data": {
      "image/png": "[encoded data removed]",
      "text/plain": [
       "<Figure size 1008x504 with 1 Axes>"
      ]
     },
     "metadata": {
      "needs_background": "light"
     },
     "output_type": "display_data"
    },
    {
     "name": "stdout",
     "output_type": "stream",
     "text": [
      "AUC Score: 0.9996194256148679\n"
     ]
    }
   ],
   "source": [
    "probs = random_forest.predict_proba(X_train)\n",
    "probs = probs[:,1]\n",
    "\n",
    "fpr, tpr, t = roc_curve(Y_train, probs)\n",
    "\n",
    "plt.figure(figsize=(14, 7))\n",
    "plt.plot(fpr, tpr, linewidth=2)\n",
    "plt.plot([0, 1], [0, 1], 'r', linewidth=4)\n",
    "plt.axis([0, 1, 0, 1])\n",
    "plt.title('Random Forest ROC Curve')\n",
    "plt.xlabel('False Positive Rate', fontsize=12)\n",
    "plt.ylabel('True Positive Rate', fontsize=12)\n",
    "plt.show()\n",
    "\n",
    "roc_score = roc_auc_score(Y_train, probs)\n",
    "print(\"AUC Score:\", roc_score)"
   ]
  },
  {
   "cell_type": "markdown",
   "metadata": {},
   "source": [
    "### Logistic Regression"
   ]
  },
  {
   "cell_type": "code",
   "execution_count": 50,
   "metadata": {},
   "outputs": [
    {
     "data": {
      "image/png": "[encoded data removed]",
      "text/plain": [
       "<Figure size 1008x504 with 1 Axes>"
      ]
     },
     "metadata": {
      "needs_background": "light"
     },
     "output_type": "display_data"
    },
    {
     "name": "stdout",
     "output_type": "stream",
     "text": [
      "AUC Score: 0.896933636020532\n"
     ]
    }
   ],
   "source": [
    "probs = logreg.predict_proba(X_train)\n",
    "probs = probs[:,1]\n",
    "\n",
    "fpr, tpr, t = roc_curve(Y_train, probs)\n",
    "\n",
    "plt.figure(figsize=(14, 7))\n",
    "plt.plot(fpr, tpr, linewidth=2)\n",
    "plt.plot([0, 1], [0, 1], 'r', linewidth=4)\n",
    "plt.axis([0, 1, 0, 1])\n",
    "plt.title('Logistic Reg. ROC Curve')\n",
    "plt.xlabel('False Positive Rate', fontsize=12)\n",
    "plt.ylabel('True Positive Rate', fontsize=12)\n",
    "plt.show()\n",
    "\n",
    "roc_score = roc_auc_score(Y_train, probs)\n",
    "print(\"AUC Score:\", roc_score)"
   ]
  },
  {
   "cell_type": "markdown",
   "metadata": {},
   "source": [
    "### ROC Analysis\n",
    "\n",
    "These two ROC curves look very different to each other.\n",
    "\n",
    "An ROC curve illustrates the accuracy of a predictive model. The most basic way to describe it is that the closer to the top left corner the curve is, the more accurate the model.\n",
    "\n",
    "Using random forest we can see that our ROC curve shows a high level of accuracy.\n",
    "\n",
    "We see that accuracy drop off when the logistic regression algorithm is used, but the curve still indicates a high level of accuracy for our model."
   ]
  },
  {
   "cell_type": "markdown",
   "metadata": {},
   "source": [
    "## Project Conclusion\n",
    "\n",
    "Overall in our project, we fell like we made some very interesting findings using the dataset. Through our dataset analysis we grew familiar with the different features our dataset provided and how they might be converted as part of our predictive model.\n",
    "\n",
    "We quickly picked out which features would be useful in predicting which horse won the race and which features could be dropped. From our initial dataset we made many changes, removing or adapting any non numeric features and adding new ones of our own.\n",
    "\n",
    "Here is the difference in how our data looked at the beginning and at the end:\n",
    "\n",
    "### Before"
   ]
  },
  {
   "cell_type": "code",
   "execution_count": 51,
   "metadata": {},
   "outputs": [
    {
     "data": {
      "text/html": [
       "<div>\n",
       "<style scoped>\n",
       "    .dataframe tbody tr th:only-of-type {\n",
       "        vertical-align: middle;\n",
       "    }\n",
       "\n",
       "    .dataframe tbody tr th {\n",
       "        vertical-align: top;\n",
       "    }\n",
       "\n",
       "    .dataframe thead th {\n",
       "        text-align: right;\n",
       "    }\n",
       "</style>\n",
       "<table border=\"1\" class=\"dataframe\">\n",
       "  <thead>\n",
       "    <tr style=\"text-align: right;\">\n",
       "      <th></th>\n",
       "      <th>finishing_position</th>\n",
       "      <th>horse_number</th>\n",
       "      <th>horse_name</th>\n",
       "      <th>horse_id</th>\n",
       "      <th>jockey</th>\n",
       "      <th>trainer</th>\n",
       "      <th>actual_weight</th>\n",
       "      <th>draw</th>\n",
       "      <th>length_behind_winner</th>\n",
       "      <th>running_position_1</th>\n",
       "      <th>running_position_2</th>\n",
       "      <th>running_position_3</th>\n",
       "      <th>running_position_4</th>\n",
       "      <th>finish_time</th>\n",
       "      <th>win_odds</th>\n",
       "      <th>race_id</th>\n",
       "    </tr>\n",
       "  </thead>\n",
       "  <tbody>\n",
       "    <tr>\n",
       "      <th>0</th>\n",
       "      <td>1.0</td>\n",
       "      <td>1.0</td>\n",
       "      <td>DOUBLE DRAGON</td>\n",
       "      <td>K019</td>\n",
       "      <td>B Prebble</td>\n",
       "      <td>D Cruz</td>\n",
       "      <td>133</td>\n",
       "      <td>1.0</td>\n",
       "      <td>-</td>\n",
       "      <td>1.0</td>\n",
       "      <td>2.0</td>\n",
       "      <td>2.0</td>\n",
       "      <td>1.0</td>\n",
       "      <td>1.22.33</td>\n",
       "      <td>3.8</td>\n",
       "      <td>2014-001</td>\n",
       "    </tr>\n",
       "    <tr>\n",
       "      <th>1</th>\n",
       "      <td>2.0</td>\n",
       "      <td>2.0</td>\n",
       "      <td>PLAIN BLUE BANNER</td>\n",
       "      <td>S070</td>\n",
       "      <td>D Whyte</td>\n",
       "      <td>D E Ferraris</td>\n",
       "      <td>133</td>\n",
       "      <td>13.0</td>\n",
       "      <td>2</td>\n",
       "      <td>8.0</td>\n",
       "      <td>9.0</td>\n",
       "      <td>9.0</td>\n",
       "      <td>2.0</td>\n",
       "      <td>1.22.65</td>\n",
       "      <td>8.0</td>\n",
       "      <td>2014-001</td>\n",
       "    </tr>\n",
       "    <tr>\n",
       "      <th>2</th>\n",
       "      <td>3.0</td>\n",
       "      <td>10.0</td>\n",
       "      <td>GOLDWEAVER</td>\n",
       "      <td>P072</td>\n",
       "      <td>Y T Cheng</td>\n",
       "      <td>Y S Tsui</td>\n",
       "      <td>121</td>\n",
       "      <td>3.0</td>\n",
       "      <td>2</td>\n",
       "      <td>2.0</td>\n",
       "      <td>1.0</td>\n",
       "      <td>1.0</td>\n",
       "      <td>3.0</td>\n",
       "      <td>1.22.66</td>\n",
       "      <td>5.7</td>\n",
       "      <td>2014-001</td>\n",
       "    </tr>\n",
       "    <tr>\n",
       "      <th>3</th>\n",
       "      <td>4.0</td>\n",
       "      <td>3.0</td>\n",
       "      <td>SUPREME PROFIT</td>\n",
       "      <td>P230</td>\n",
       "      <td>J Moreira</td>\n",
       "      <td>C S Shum</td>\n",
       "      <td>132</td>\n",
       "      <td>2.0</td>\n",
       "      <td>2</td>\n",
       "      <td>6.0</td>\n",
       "      <td>4.0</td>\n",
       "      <td>5.0</td>\n",
       "      <td>4.0</td>\n",
       "      <td>1.22.66</td>\n",
       "      <td>6.1</td>\n",
       "      <td>2014-001</td>\n",
       "    </tr>\n",
       "    <tr>\n",
       "      <th>4</th>\n",
       "      <td>5.0</td>\n",
       "      <td>7.0</td>\n",
       "      <td>THE ONLY KID</td>\n",
       "      <td>H173</td>\n",
       "      <td>Z Purton</td>\n",
       "      <td>K W Lui</td>\n",
       "      <td>125</td>\n",
       "      <td>9.0</td>\n",
       "      <td>4-1/4</td>\n",
       "      <td>9.0</td>\n",
       "      <td>10.0</td>\n",
       "      <td>10.0</td>\n",
       "      <td>5.0</td>\n",
       "      <td>1.23.02</td>\n",
       "      <td>6.1</td>\n",
       "      <td>2014-001</td>\n",
       "    </tr>\n",
       "    <tr>\n",
       "      <th>5</th>\n",
       "      <td>6.0</td>\n",
       "      <td>9.0</td>\n",
       "      <td>WINNING ADVANTAGE</td>\n",
       "      <td>N359</td>\n",
       "      <td>A Suborics</td>\n",
       "      <td>A T Millard</td>\n",
       "      <td>123</td>\n",
       "      <td>11.0</td>\n",
       "      <td>5-1/2</td>\n",
       "      <td>12.0</td>\n",
       "      <td>13.0</td>\n",
       "      <td>13.0</td>\n",
       "      <td>6.0</td>\n",
       "      <td>1.23.20</td>\n",
       "      <td>24.0</td>\n",
       "      <td>2014-001</td>\n",
       "    </tr>\n",
       "    <tr>\n",
       "      <th>6</th>\n",
       "      <td>7.0</td>\n",
       "      <td>13.0</td>\n",
       "      <td>CARE FREE ELEGANCE</td>\n",
       "      <td>P340</td>\n",
       "      <td>C Y Ho</td>\n",
       "      <td>K L Man</td>\n",
       "      <td>115</td>\n",
       "      <td>12.0</td>\n",
       "      <td>5-1/2</td>\n",
       "      <td>4.0</td>\n",
       "      <td>3.0</td>\n",
       "      <td>3.0</td>\n",
       "      <td>7.0</td>\n",
       "      <td>1.23.22</td>\n",
       "      <td>99.0</td>\n",
       "      <td>2014-001</td>\n",
       "    </tr>\n",
       "    <tr>\n",
       "      <th>7</th>\n",
       "      <td>8.0</td>\n",
       "      <td>4.0</td>\n",
       "      <td>COOL PAL</td>\n",
       "      <td>S035</td>\n",
       "      <td>H W Lai</td>\n",
       "      <td>L Ho</td>\n",
       "      <td>129</td>\n",
       "      <td>8.0</td>\n",
       "      <td>5-3/4</td>\n",
       "      <td>5.0</td>\n",
       "      <td>6.0</td>\n",
       "      <td>6.0</td>\n",
       "      <td>8.0</td>\n",
       "      <td>1.23.25</td>\n",
       "      <td>21.0</td>\n",
       "      <td>2014-001</td>\n",
       "    </tr>\n",
       "    <tr>\n",
       "      <th>8</th>\n",
       "      <td>9.0</td>\n",
       "      <td>6.0</td>\n",
       "      <td>TAI PO FORTUNE</td>\n",
       "      <td>P081</td>\n",
       "      <td>K Teetan</td>\n",
       "      <td>T P Yung</td>\n",
       "      <td>127</td>\n",
       "      <td>6.0</td>\n",
       "      <td>6-1/4</td>\n",
       "      <td>7.0</td>\n",
       "      <td>7.0</td>\n",
       "      <td>7.0</td>\n",
       "      <td>9.0</td>\n",
       "      <td>1.23.33</td>\n",
       "      <td>10.0</td>\n",
       "      <td>2014-001</td>\n",
       "    </tr>\n",
       "    <tr>\n",
       "      <th>9</th>\n",
       "      <td>10.0</td>\n",
       "      <td>11.0</td>\n",
       "      <td>SUPER HORSE</td>\n",
       "      <td>L308</td>\n",
       "      <td>T H So</td>\n",
       "      <td>C W Chang</td>\n",
       "      <td>119</td>\n",
       "      <td>7.0</td>\n",
       "      <td>6-3/4</td>\n",
       "      <td>11.0</td>\n",
       "      <td>11.0</td>\n",
       "      <td>12.0</td>\n",
       "      <td>10.0</td>\n",
       "      <td>1.23.41</td>\n",
       "      <td>27.0</td>\n",
       "      <td>2014-001</td>\n",
       "    </tr>\n",
       "  </tbody>\n",
       "</table>\n",
       "</div>"
      ],
      "text/plain": [
       "   finishing_position  horse_number          horse_name horse_id      jockey  \\\n",
       "0                 1.0           1.0       DOUBLE DRAGON     K019   B Prebble   \n",
       "1                 2.0           2.0   PLAIN BLUE BANNER     S070     D Whyte   \n",
       "2                 3.0          10.0          GOLDWEAVER     P072   Y T Cheng   \n",
       "3                 4.0           3.0      SUPREME PROFIT     P230   J Moreira   \n",
       "4                 5.0           7.0        THE ONLY KID     H173    Z Purton   \n",
       "5                 6.0           9.0   WINNING ADVANTAGE     N359  A Suborics   \n",
       "6                 7.0          13.0  CARE FREE ELEGANCE     P340      C Y Ho   \n",
       "7                 8.0           4.0            COOL PAL     S035     H W Lai   \n",
       "8                 9.0           6.0      TAI PO FORTUNE     P081    K Teetan   \n",
       "9                10.0          11.0         SUPER HORSE     L308      T H So   \n",
       "\n",
       "        trainer actual_weight  draw length_behind_winner  running_position_1  \\\n",
       "0        D Cruz           133   1.0                    -                 1.0   \n",
       "1  D E Ferraris           133  13.0                    2                 8.0   \n",
       "2      Y S Tsui           121   3.0                    2                 2.0   \n",
       "3      C S Shum           132   2.0                    2                 6.0   \n",
       "4       K W Lui           125   9.0                4-1/4                 9.0   \n",
       "5   A T Millard           123  11.0                5-1/2                12.0   \n",
       "6       K L Man           115  12.0                5-1/2                 4.0   \n",
       "7          L Ho           129   8.0                5-3/4                 5.0   \n",
       "8      T P Yung           127   6.0                6-1/4                 7.0   \n",
       "9     C W Chang           119   7.0                6-3/4                11.0   \n",
       "\n",
       "   running_position_2  running_position_3  running_position_4 finish_time  \\\n",
       "0                 2.0                 2.0                 1.0     1.22.33   \n",
       "1                 9.0                 9.0                 2.0     1.22.65   \n",
       "2                 1.0                 1.0                 3.0     1.22.66   \n",
       "3                 4.0                 5.0                 4.0     1.22.66   \n",
       "4                10.0                10.0                 5.0     1.23.02   \n",
       "5                13.0                13.0                 6.0     1.23.20   \n",
       "6                 3.0                 3.0                 7.0     1.23.22   \n",
       "7                 6.0                 6.0                 8.0     1.23.25   \n",
       "8                 7.0                 7.0                 9.0     1.23.33   \n",
       "9                11.0                12.0                10.0     1.23.41   \n",
       "\n",
       "   win_odds   race_id  \n",
       "0       3.8  2014-001  \n",
       "1       8.0  2014-001  \n",
       "2       5.7  2014-001  \n",
       "3       6.1  2014-001  \n",
       "4       6.1  2014-001  \n",
       "5      24.0  2014-001  \n",
       "6      99.0  2014-001  \n",
       "7      21.0  2014-001  \n",
       "8      10.0  2014-001  \n",
       "9      27.0  2014-001  "
      ]
     },
     "execution_count": 51,
     "metadata": {},
     "output_type": "execute_result"
    }
   ],
   "source": [
    "df_example.head(10)"
   ]
  },
  {
   "cell_type": "markdown",
   "metadata": {},
   "source": [
    "### After"
   ]
  },
  {
   "cell_type": "code",
   "execution_count": 52,
   "metadata": {},
   "outputs": [
    {
     "data": {
      "text/html": [
       "<div>\n",
       "<style scoped>\n",
       "    .dataframe tbody tr th:only-of-type {\n",
       "        vertical-align: middle;\n",
       "    }\n",
       "\n",
       "    .dataframe tbody tr th {\n",
       "        vertical-align: top;\n",
       "    }\n",
       "\n",
       "    .dataframe thead th {\n",
       "        text-align: right;\n",
       "    }\n",
       "</style>\n",
       "<table border=\"1\" class=\"dataframe\">\n",
       "  <thead>\n",
       "    <tr style=\"text-align: right;\">\n",
       "      <th></th>\n",
       "      <th>finishing_position</th>\n",
       "      <th>running_position_1</th>\n",
       "      <th>running_position_2</th>\n",
       "      <th>running_position_3</th>\n",
       "      <th>horse_wins</th>\n",
       "      <th>jockey_wins</th>\n",
       "      <th>trainer_wins</th>\n",
       "      <th>draw_rank</th>\n",
       "    </tr>\n",
       "  </thead>\n",
       "  <tbody>\n",
       "    <tr>\n",
       "      <th>0</th>\n",
       "      <td>1</td>\n",
       "      <td>1</td>\n",
       "      <td>2</td>\n",
       "      <td>2</td>\n",
       "      <td>1</td>\n",
       "      <td>6</td>\n",
       "      <td>5</td>\n",
       "      <td>1</td>\n",
       "    </tr>\n",
       "    <tr>\n",
       "      <th>1</th>\n",
       "      <td>0</td>\n",
       "      <td>8</td>\n",
       "      <td>9</td>\n",
       "      <td>9</td>\n",
       "      <td>2</td>\n",
       "      <td>5</td>\n",
       "      <td>5</td>\n",
       "      <td>5</td>\n",
       "    </tr>\n",
       "    <tr>\n",
       "      <th>2</th>\n",
       "      <td>0</td>\n",
       "      <td>2</td>\n",
       "      <td>1</td>\n",
       "      <td>1</td>\n",
       "      <td>2</td>\n",
       "      <td>8</td>\n",
       "      <td>4</td>\n",
       "      <td>1</td>\n",
       "    </tr>\n",
       "    <tr>\n",
       "      <th>3</th>\n",
       "      <td>0</td>\n",
       "      <td>6</td>\n",
       "      <td>4</td>\n",
       "      <td>5</td>\n",
       "      <td>5</td>\n",
       "      <td>1</td>\n",
       "      <td>3</td>\n",
       "      <td>1</td>\n",
       "    </tr>\n",
       "    <tr>\n",
       "      <th>4</th>\n",
       "      <td>0</td>\n",
       "      <td>9</td>\n",
       "      <td>10</td>\n",
       "      <td>10</td>\n",
       "      <td>0</td>\n",
       "      <td>4</td>\n",
       "      <td>4</td>\n",
       "      <td>2</td>\n",
       "    </tr>\n",
       "    <tr>\n",
       "      <th>5</th>\n",
       "      <td>0</td>\n",
       "      <td>12</td>\n",
       "      <td>13</td>\n",
       "      <td>13</td>\n",
       "      <td>0</td>\n",
       "      <td>8</td>\n",
       "      <td>4</td>\n",
       "      <td>4</td>\n",
       "    </tr>\n",
       "    <tr>\n",
       "      <th>6</th>\n",
       "      <td>0</td>\n",
       "      <td>4</td>\n",
       "      <td>3</td>\n",
       "      <td>3</td>\n",
       "      <td>0</td>\n",
       "      <td>7</td>\n",
       "      <td>4</td>\n",
       "      <td>4</td>\n",
       "    </tr>\n",
       "    <tr>\n",
       "      <th>7</th>\n",
       "      <td>0</td>\n",
       "      <td>5</td>\n",
       "      <td>6</td>\n",
       "      <td>6</td>\n",
       "      <td>0</td>\n",
       "      <td>8</td>\n",
       "      <td>5</td>\n",
       "      <td>3</td>\n",
       "    </tr>\n",
       "    <tr>\n",
       "      <th>8</th>\n",
       "      <td>0</td>\n",
       "      <td>7</td>\n",
       "      <td>7</td>\n",
       "      <td>7</td>\n",
       "      <td>0</td>\n",
       "      <td>7</td>\n",
       "      <td>5</td>\n",
       "      <td>2</td>\n",
       "    </tr>\n",
       "    <tr>\n",
       "      <th>9</th>\n",
       "      <td>0</td>\n",
       "      <td>11</td>\n",
       "      <td>11</td>\n",
       "      <td>12</td>\n",
       "      <td>0</td>\n",
       "      <td>8</td>\n",
       "      <td>6</td>\n",
       "      <td>3</td>\n",
       "    </tr>\n",
       "  </tbody>\n",
       "</table>\n",
       "</div>"
      ],
      "text/plain": [
       "   finishing_position  running_position_1  running_position_2  \\\n",
       "0                   1                   1                   2   \n",
       "1                   0                   8                   9   \n",
       "2                   0                   2                   1   \n",
       "3                   0                   6                   4   \n",
       "4                   0                   9                  10   \n",
       "5                   0                  12                  13   \n",
       "6                   0                   4                   3   \n",
       "7                   0                   5                   6   \n",
       "8                   0                   7                   7   \n",
       "9                   0                  11                  11   \n",
       "\n",
       "   running_position_3  horse_wins  jockey_wins  trainer_wins  draw_rank  \n",
       "0                   2           1            6             5          1  \n",
       "1                   9           2            5             5          5  \n",
       "2                   1           2            8             4          1  \n",
       "3                   5           5            1             3          1  \n",
       "4                  10           0            4             4          2  \n",
       "5                  13           0            8             4          4  \n",
       "6                   3           0            7             4          4  \n",
       "7                   6           0            8             5          3  \n",
       "8                   7           0            7             5          2  \n",
       "9                  12           0            8             6          3  "
      ]
     },
     "execution_count": 52,
     "metadata": {},
     "output_type": "execute_result"
    }
   ],
   "source": [
    "df.head(10)"
   ]
  },
  {
   "cell_type": "markdown",
   "metadata": {},
   "source": [
    "The process of converting all of the features in our dataset allowed us to create a more suitable input for the machine learning algorithms we chose.\n",
    "\n",
    "### Some interesting findings\n",
    "\n",
    "We found that the handicap weight a horse was given had little impact on the horse winning the race. We saw that the handicap weights with the most wins were also the most common weights.\n",
    "\n",
    "We found that the 'draw' or starting position for the horses had a big impact on the horses chances of winning. We saw that most of the positions were even distributed accross the dataset, while the wins were biased towards the lower number starting gates.\n",
    "Positions 1-3 held the most winners which told us that there must be some advantage to a horse starting from these gates. We drew the assumption that gates 1-3 were closed to the inside of the race track, meaning horses would have to cover less ground to get into position on the inside of bends.\n",
    "\n",
    "### ML Algorithms\n",
    "\n",
    "Our results from using 3 different machine learning algorithms (random forest, logistic regression, perceptron) indicated to us that the model we developed was accurate at predicting if a horse was the winner of a race based on the features we developed. Random forest scored the highest, with logistic regression in second and percepron in third.\n",
    "\n",
    "We performed 10-fold cross validation on our results for these algorithms and saw our model accuracy scores drop only slightly, further afirming our satisfaction with the model.\n",
    "\n",
    "### Final word\n",
    "\n",
    "Lastly, we just wanted to say that we found this exercise to be a great learning experience and appreciate the value of this project. This type of data analysis and predictive model creation is highly applicable in lots of areas and we feel like we have made a start to aquiring a valuable new skill."
   ]
  },
  {
   "cell_type": "code",
   "execution_count": null,
   "metadata": {},
   "outputs": [],
   "source": []
  }
 ],
 "metadata": {
  "kernelspec": {
   "display_name": "Python 3",
   "language": "python",
   "name": "python3"
  },
  "language_info": {
   "codemirror_mode": {
    "name": "ipython",
    "version": 3
   },
   "file_extension": ".py",
   "mimetype": "text/x-python",
   "name": "python",
   "nbconvert_exporter": "python",
   "pygments_lexer": "ipython3",
   "version": "3.5.2"
  }
 },
 "nbformat": 4,
 "nbformat_minor": 2
}
